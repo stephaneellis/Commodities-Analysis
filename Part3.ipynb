{
 "cells": [
  {
   "cell_type": "code",
   "execution_count": 2,
   "metadata": {},
   "outputs": [],
   "source": [
    "import pandas as pd\n",
    "import numpy as np\n",
    "import matplotlib.pyplot as plt\n",
    "import plotly.express as px\n",
    "import seaborn as sns\n",
    "import statsmodels.api as sm"
   ]
  },
  {
   "cell_type": "markdown",
   "metadata": {},
   "source": [
    "### Acknowlegment:\n",
    "\n",
    "This following series of notebooks use directly the datasets and logic provided by Johannes Mauritzen on his github page (https://jmaurit.github.io/). I follow his methods closely. The series of lectures, which inspired my notebooks use the R language, so I instead adapted his methodology into Python myself. This acknolegments page applies to all subsequent notebooks on this repository. The choice of `.ipynb` felt more natural and easier than an Object Oriented approach, as the latter is not necessary here. "
   ]
  },
  {
   "cell_type": "markdown",
   "metadata": {},
   "source": [
    "## Relational Data, Exploration and Financials in petroleum firms"
   ]
  },
  {
   "cell_type": "markdown",
   "metadata": {},
   "source": [
    "The majority of datasets will not be complete. Instead, various datasets from various sources are combined to get so-called *Relational data*. \n",
    "\n",
    "The dataset under consideration here concerns itself with petroleum exploration activity on the Norwegian Continental Shelf. Data on exploration is combined with firm-level financial data. How does the financial situation affect drilling decisions? Which firms do the risky exploratory drilling on the Norwegian Continental Shelf? What is the relationship between the firm's profitability and its drilling activities? "
   ]
  },
  {
   "cell_type": "markdown",
   "metadata": {},
   "source": [
    "The data is from the Norwegian Petroleum Directon all exploratory wells drilled on the Norwegian Continental Shelf in the past 10 years."
   ]
  },
  {
   "cell_type": "code",
   "execution_count": 178,
   "metadata": {},
   "outputs": [],
   "source": [
    "exploration = pd.read_csv(\"wellbore_exploration_last_10_years.csv\")"
   ]
  },
  {
   "cell_type": "code",
   "execution_count": 5,
   "metadata": {},
   "outputs": [
    {
     "data": {
      "text/html": [
       "<div>\n",
       "<style scoped>\n",
       "    .dataframe tbody tr th:only-of-type {\n",
       "        vertical-align: middle;\n",
       "    }\n",
       "\n",
       "    .dataframe tbody tr th {\n",
       "        vertical-align: top;\n",
       "    }\n",
       "\n",
       "    .dataframe thead th {\n",
       "        text-align: right;\n",
       "    }\n",
       "</style>\n",
       "<table border=\"1\" class=\"dataframe\">\n",
       "  <thead>\n",
       "    <tr style=\"text-align: right;\">\n",
       "      <th></th>\n",
       "      <th>wlbWellboreName</th>\n",
       "      <th>wlbEntryDate</th>\n",
       "      <th>wlbCompletionDate</th>\n",
       "      <th>wlbDrillingOperator</th>\n",
       "      <th>wlbProductionLicence</th>\n",
       "      <th>wlbPurpose</th>\n",
       "      <th>wlbContent</th>\n",
       "      <th>wlbReentry</th>\n",
       "      <th>wlbStatus</th>\n",
       "      <th>wlbAgeAtTd</th>\n",
       "      <th>wlbAgeWithHc1</th>\n",
       "      <th>datesyncNPD</th>\n",
       "    </tr>\n",
       "  </thead>\n",
       "  <tbody>\n",
       "    <tr>\n",
       "      <th>count</th>\n",
       "      <td>491</td>\n",
       "      <td>491</td>\n",
       "      <td>485</td>\n",
       "      <td>491</td>\n",
       "      <td>491</td>\n",
       "      <td>491</td>\n",
       "      <td>479</td>\n",
       "      <td>491</td>\n",
       "      <td>491</td>\n",
       "      <td>491</td>\n",
       "      <td>271</td>\n",
       "      <td>491</td>\n",
       "    </tr>\n",
       "    <tr>\n",
       "      <th>unique</th>\n",
       "      <td>491</td>\n",
       "      <td>463</td>\n",
       "      <td>454</td>\n",
       "      <td>49</td>\n",
       "      <td>251</td>\n",
       "      <td>2</td>\n",
       "      <td>10</td>\n",
       "      <td>2</td>\n",
       "      <td>6</td>\n",
       "      <td>25</td>\n",
       "      <td>22</td>\n",
       "      <td>1</td>\n",
       "    </tr>\n",
       "    <tr>\n",
       "      <th>top</th>\n",
       "      <td>25/4-14 B</td>\n",
       "      <td>03.03.2015</td>\n",
       "      <td>26.12.2014</td>\n",
       "      <td>Statoil Petroleum AS</td>\n",
       "      <td>501</td>\n",
       "      <td>WILDCAT</td>\n",
       "      <td>DRY</td>\n",
       "      <td>NO</td>\n",
       "      <td>P&amp;A</td>\n",
       "      <td>EARLY JURASSIC</td>\n",
       "      <td>MIDDLE JURASSIC</td>\n",
       "      <td>23.09.2019</td>\n",
       "    </tr>\n",
       "    <tr>\n",
       "      <th>freq</th>\n",
       "      <td>1</td>\n",
       "      <td>3</td>\n",
       "      <td>3</td>\n",
       "      <td>118</td>\n",
       "      <td>21</td>\n",
       "      <td>336</td>\n",
       "      <td>177</td>\n",
       "      <td>487</td>\n",
       "      <td>453</td>\n",
       "      <td>91</td>\n",
       "      <td>82</td>\n",
       "      <td>491</td>\n",
       "    </tr>\n",
       "  </tbody>\n",
       "</table>\n",
       "</div>"
      ],
      "text/plain": [
       "       wlbWellboreName wlbEntryDate wlbCompletionDate   wlbDrillingOperator  \\\n",
       "count              491          491               485                   491   \n",
       "unique             491          463               454                    49   \n",
       "top          25/4-14 B   03.03.2015        26.12.2014  Statoil Petroleum AS   \n",
       "freq                 1            3                 3                   118   \n",
       "\n",
       "       wlbProductionLicence wlbPurpose wlbContent wlbReentry wlbStatus  \\\n",
       "count                   491        491        479        491       491   \n",
       "unique                  251          2         10          2         6   \n",
       "top                    501     WILDCAT        DRY         NO       P&A   \n",
       "freq                     21        336        177        487       453   \n",
       "\n",
       "                  wlbAgeAtTd    wlbAgeWithHc1 datesyncNPD  \n",
       "count                    491              271         491  \n",
       "unique                    25               22           1  \n",
       "top     EARLY JURASSIC        MIDDLE JURASSIC  23.09.2019  \n",
       "freq                      91               82         491  "
      ]
     },
     "execution_count": 5,
     "metadata": {},
     "output_type": "execute_result"
    }
   ],
   "source": [
    "exploration.describe()"
   ]
  },
  {
   "cell_type": "code",
   "execution_count": 7,
   "metadata": {},
   "outputs": [
    {
     "data": {
      "text/html": [
       "<div>\n",
       "<style scoped>\n",
       "    .dataframe tbody tr th:only-of-type {\n",
       "        vertical-align: middle;\n",
       "    }\n",
       "\n",
       "    .dataframe tbody tr th {\n",
       "        vertical-align: top;\n",
       "    }\n",
       "\n",
       "    .dataframe thead th {\n",
       "        text-align: right;\n",
       "    }\n",
       "</style>\n",
       "<table border=\"1\" class=\"dataframe\">\n",
       "  <thead>\n",
       "    <tr style=\"text-align: right;\">\n",
       "      <th></th>\n",
       "      <th>wlbEntryDate</th>\n",
       "      <th>wlbCompletionDate</th>\n",
       "    </tr>\n",
       "  </thead>\n",
       "  <tbody>\n",
       "    <tr>\n",
       "      <th>0</th>\n",
       "      <td>17.09.2019</td>\n",
       "      <td>NaN</td>\n",
       "    </tr>\n",
       "    <tr>\n",
       "      <th>1</th>\n",
       "      <td>10.09.2019</td>\n",
       "      <td>16.09.2019</td>\n",
       "    </tr>\n",
       "    <tr>\n",
       "      <th>2</th>\n",
       "      <td>09.09.2019</td>\n",
       "      <td>NaN</td>\n",
       "    </tr>\n",
       "    <tr>\n",
       "      <th>3</th>\n",
       "      <td>30.08.2019</td>\n",
       "      <td>NaN</td>\n",
       "    </tr>\n",
       "    <tr>\n",
       "      <th>4</th>\n",
       "      <td>30.08.2019</td>\n",
       "      <td>NaN</td>\n",
       "    </tr>\n",
       "    <tr>\n",
       "      <th>...</th>\n",
       "      <td>...</td>\n",
       "      <td>...</td>\n",
       "    </tr>\n",
       "    <tr>\n",
       "      <th>486</th>\n",
       "      <td>19.12.2009</td>\n",
       "      <td>25.01.2010</td>\n",
       "    </tr>\n",
       "    <tr>\n",
       "      <th>487</th>\n",
       "      <td>01.12.2009</td>\n",
       "      <td>22.07.2010</td>\n",
       "    </tr>\n",
       "    <tr>\n",
       "      <th>488</th>\n",
       "      <td>30.11.2009</td>\n",
       "      <td>21.01.2010</td>\n",
       "    </tr>\n",
       "    <tr>\n",
       "      <th>489</th>\n",
       "      <td>18.11.2009</td>\n",
       "      <td>03.01.2010</td>\n",
       "    </tr>\n",
       "    <tr>\n",
       "      <th>490</th>\n",
       "      <td>13.10.2009</td>\n",
       "      <td>10.01.2010</td>\n",
       "    </tr>\n",
       "  </tbody>\n",
       "</table>\n",
       "<p>491 rows × 2 columns</p>\n",
       "</div>"
      ],
      "text/plain": [
       "    wlbEntryDate wlbCompletionDate\n",
       "0     17.09.2019               NaN\n",
       "1     10.09.2019        16.09.2019\n",
       "2     09.09.2019               NaN\n",
       "3     30.08.2019               NaN\n",
       "4     30.08.2019               NaN\n",
       "..           ...               ...\n",
       "486   19.12.2009        25.01.2010\n",
       "487   01.12.2009        22.07.2010\n",
       "488   30.11.2009        21.01.2010\n",
       "489   18.11.2009        03.01.2010\n",
       "490   13.10.2009        10.01.2010\n",
       "\n",
       "[491 rows x 2 columns]"
      ]
     },
     "execution_count": 7,
     "metadata": {},
     "output_type": "execute_result"
    }
   ],
   "source": [
    "exploration[['wlbEntryDate', 'wlbCompletionDate']]"
   ]
  },
  {
   "cell_type": "markdown",
   "metadata": {},
   "source": [
    "These dates should be in `datetime` format"
   ]
  },
  {
   "cell_type": "code",
   "execution_count": 179,
   "metadata": {},
   "outputs": [
    {
     "name": "stderr",
     "output_type": "stream",
     "text": [
      "/var/folders/g2/l186zykd1g56mc9vp1p2rv280000gn/T/ipykernel_43232/4156025165.py:1: UserWarning: Parsing dates in %d.%m.%Y format when dayfirst=False (the default) was specified. Pass `dayfirst=True` or specify a format to silence this warning.\n",
      "  exploration['wlbEntryDate'] = pd.to_datetime(exploration['wlbEntryDate'])\n",
      "/var/folders/g2/l186zykd1g56mc9vp1p2rv280000gn/T/ipykernel_43232/4156025165.py:2: UserWarning: Parsing dates in %d.%m.%Y format when dayfirst=False (the default) was specified. Pass `dayfirst=True` or specify a format to silence this warning.\n",
      "  exploration['wlbCompletionDate'] = pd.to_datetime(exploration['wlbCompletionDate'])\n",
      "/var/folders/g2/l186zykd1g56mc9vp1p2rv280000gn/T/ipykernel_43232/4156025165.py:3: UserWarning: Parsing dates in %d.%m.%Y format when dayfirst=False (the default) was specified. Pass `dayfirst=True` or specify a format to silence this warning.\n",
      "  exploration['datesyncNPD'] = pd.to_datetime(exploration['datesyncNPD'])\n"
     ]
    }
   ],
   "source": [
    "exploration['wlbEntryDate'] = pd.to_datetime(exploration['wlbEntryDate'])\n",
    "exploration['wlbCompletionDate'] = pd.to_datetime(exploration['wlbCompletionDate'])\n",
    "exploration['datesyncNPD'] = pd.to_datetime(exploration['datesyncNPD'])"
   ]
  },
  {
   "cell_type": "code",
   "execution_count": 11,
   "metadata": {},
   "outputs": [
    {
     "data": {
      "text/html": [
       "<div>\n",
       "<style scoped>\n",
       "    .dataframe tbody tr th:only-of-type {\n",
       "        vertical-align: middle;\n",
       "    }\n",
       "\n",
       "    .dataframe tbody tr th {\n",
       "        vertical-align: top;\n",
       "    }\n",
       "\n",
       "    .dataframe thead th {\n",
       "        text-align: right;\n",
       "    }\n",
       "</style>\n",
       "<table border=\"1\" class=\"dataframe\">\n",
       "  <thead>\n",
       "    <tr style=\"text-align: right;\">\n",
       "      <th></th>\n",
       "      <th>wlbWellboreName</th>\n",
       "      <th>wlbEntryDate</th>\n",
       "      <th>wlbCompletionDate</th>\n",
       "      <th>wlbDrillingOperator</th>\n",
       "      <th>wlbProductionLicence</th>\n",
       "      <th>wlbPurpose</th>\n",
       "      <th>wlbContent</th>\n",
       "      <th>wlbReentry</th>\n",
       "      <th>wlbStatus</th>\n",
       "      <th>wlbAgeAtTd</th>\n",
       "      <th>wlbAgeWithHc1</th>\n",
       "      <th>datesyncNPD</th>\n",
       "    </tr>\n",
       "  </thead>\n",
       "  <tbody>\n",
       "    <tr>\n",
       "      <th>0</th>\n",
       "      <td>25/4-14 B</td>\n",
       "      <td>2019-09-17</td>\n",
       "      <td>NaT</td>\n",
       "      <td>Aker BP ASA</td>\n",
       "      <td>036 C</td>\n",
       "      <td>APPRAISAL</td>\n",
       "      <td>NaN</td>\n",
       "      <td>NO</td>\n",
       "      <td>DRILLING</td>\n",
       "      <td></td>\n",
       "      <td>NaN</td>\n",
       "      <td>2019-09-23</td>\n",
       "    </tr>\n",
       "    <tr>\n",
       "      <th>1</th>\n",
       "      <td>25/4-14 A</td>\n",
       "      <td>2019-09-10</td>\n",
       "      <td>2019-09-16</td>\n",
       "      <td>Aker BP ASA</td>\n",
       "      <td>036 C</td>\n",
       "      <td>APPRAISAL</td>\n",
       "      <td>NaN</td>\n",
       "      <td>NO</td>\n",
       "      <td>PLUGGED</td>\n",
       "      <td></td>\n",
       "      <td>NaN</td>\n",
       "      <td>2019-09-23</td>\n",
       "    </tr>\n",
       "    <tr>\n",
       "      <th>2</th>\n",
       "      <td>32/4-2</td>\n",
       "      <td>2019-09-09</td>\n",
       "      <td>NaT</td>\n",
       "      <td>Equinor Energy AS</td>\n",
       "      <td>921</td>\n",
       "      <td>WILDCAT</td>\n",
       "      <td>NaN</td>\n",
       "      <td>NO</td>\n",
       "      <td>DRILLING</td>\n",
       "      <td></td>\n",
       "      <td>NaN</td>\n",
       "      <td>2019-09-23</td>\n",
       "    </tr>\n",
       "    <tr>\n",
       "      <th>3</th>\n",
       "      <td>2/1-17 S</td>\n",
       "      <td>2019-08-30</td>\n",
       "      <td>NaT</td>\n",
       "      <td>Aker BP ASA</td>\n",
       "      <td>019 C</td>\n",
       "      <td>WILDCAT</td>\n",
       "      <td>NaN</td>\n",
       "      <td>NO</td>\n",
       "      <td>DRILLING</td>\n",
       "      <td></td>\n",
       "      <td>NaN</td>\n",
       "      <td>2019-09-23</td>\n",
       "    </tr>\n",
       "    <tr>\n",
       "      <th>4</th>\n",
       "      <td>6507/5-9 S</td>\n",
       "      <td>2019-08-30</td>\n",
       "      <td>NaT</td>\n",
       "      <td>PGNiG Upstream Norway AS</td>\n",
       "      <td>838</td>\n",
       "      <td>WILDCAT</td>\n",
       "      <td>NaN</td>\n",
       "      <td>NO</td>\n",
       "      <td>DRILLING</td>\n",
       "      <td></td>\n",
       "      <td>NaN</td>\n",
       "      <td>2019-09-23</td>\n",
       "    </tr>\n",
       "    <tr>\n",
       "      <th>...</th>\n",
       "      <td>...</td>\n",
       "      <td>...</td>\n",
       "      <td>...</td>\n",
       "      <td>...</td>\n",
       "      <td>...</td>\n",
       "      <td>...</td>\n",
       "      <td>...</td>\n",
       "      <td>...</td>\n",
       "      <td>...</td>\n",
       "      <td>...</td>\n",
       "      <td>...</td>\n",
       "      <td>...</td>\n",
       "    </tr>\n",
       "    <tr>\n",
       "      <th>486</th>\n",
       "      <td>34/4-12 S</td>\n",
       "      <td>2009-12-19</td>\n",
       "      <td>2010-01-25</td>\n",
       "      <td>Statoil Petroleum AS</td>\n",
       "      <td>057</td>\n",
       "      <td>WILDCAT</td>\n",
       "      <td>OIL</td>\n",
       "      <td>NO</td>\n",
       "      <td>P&amp;A</td>\n",
       "      <td>LATE TRIASSIC</td>\n",
       "      <td>LATE TRIASSIC</td>\n",
       "      <td>2019-09-23</td>\n",
       "    </tr>\n",
       "    <tr>\n",
       "      <th>487</th>\n",
       "      <td>1/3-12 S</td>\n",
       "      <td>2009-12-01</td>\n",
       "      <td>2010-07-22</td>\n",
       "      <td>BG Norge AS</td>\n",
       "      <td>297</td>\n",
       "      <td>WILDCAT</td>\n",
       "      <td>DRY</td>\n",
       "      <td>NO</td>\n",
       "      <td>P&amp;A</td>\n",
       "      <td>LATE TRIASSIC</td>\n",
       "      <td>NaN</td>\n",
       "      <td>2019-09-23</td>\n",
       "    </tr>\n",
       "    <tr>\n",
       "      <th>488</th>\n",
       "      <td>16/1-13</td>\n",
       "      <td>2009-11-30</td>\n",
       "      <td>2010-01-21</td>\n",
       "      <td>Lundin Norway AS</td>\n",
       "      <td>338</td>\n",
       "      <td>APPRAISAL</td>\n",
       "      <td>OIL</td>\n",
       "      <td>NO</td>\n",
       "      <td>P&amp;A</td>\n",
       "      <td>LATE TRIASSIC</td>\n",
       "      <td>EARLY CRETACEOUS</td>\n",
       "      <td>2019-09-23</td>\n",
       "    </tr>\n",
       "    <tr>\n",
       "      <th>489</th>\n",
       "      <td>15/9-23</td>\n",
       "      <td>2009-11-18</td>\n",
       "      <td>2010-01-03</td>\n",
       "      <td>Det norske oljeselskap ASA (old)</td>\n",
       "      <td>408</td>\n",
       "      <td>WILDCAT</td>\n",
       "      <td>DRY</td>\n",
       "      <td>NO</td>\n",
       "      <td>P&amp;A</td>\n",
       "      <td>LATE TRIASSIC</td>\n",
       "      <td>NaN</td>\n",
       "      <td>2019-09-23</td>\n",
       "    </tr>\n",
       "    <tr>\n",
       "      <th>490</th>\n",
       "      <td>34/4-11</td>\n",
       "      <td>2009-10-13</td>\n",
       "      <td>2010-01-10</td>\n",
       "      <td>Petro-Canada Norge AS</td>\n",
       "      <td>375</td>\n",
       "      <td>WILDCAT</td>\n",
       "      <td>OIL</td>\n",
       "      <td>NO</td>\n",
       "      <td>P&amp;A</td>\n",
       "      <td>LATE TRIASSIC</td>\n",
       "      <td>MIDDLE JURASSIC</td>\n",
       "      <td>2019-09-23</td>\n",
       "    </tr>\n",
       "  </tbody>\n",
       "</table>\n",
       "<p>491 rows × 12 columns</p>\n",
       "</div>"
      ],
      "text/plain": [
       "    wlbWellboreName wlbEntryDate wlbCompletionDate  \\\n",
       "0         25/4-14 B   2019-09-17               NaT   \n",
       "1         25/4-14 A   2019-09-10        2019-09-16   \n",
       "2            32/4-2   2019-09-09               NaT   \n",
       "3          2/1-17 S   2019-08-30               NaT   \n",
       "4        6507/5-9 S   2019-08-30               NaT   \n",
       "..              ...          ...               ...   \n",
       "486       34/4-12 S   2009-12-19        2010-01-25   \n",
       "487        1/3-12 S   2009-12-01        2010-07-22   \n",
       "488         16/1-13   2009-11-30        2010-01-21   \n",
       "489         15/9-23   2009-11-18        2010-01-03   \n",
       "490         34/4-11   2009-10-13        2010-01-10   \n",
       "\n",
       "                  wlbDrillingOperator wlbProductionLicence wlbPurpose  \\\n",
       "0                         Aker BP ASA                036 C  APPRAISAL   \n",
       "1                         Aker BP ASA                036 C  APPRAISAL   \n",
       "2                   Equinor Energy AS                 921     WILDCAT   \n",
       "3                         Aker BP ASA                019 C    WILDCAT   \n",
       "4            PGNiG Upstream Norway AS                 838     WILDCAT   \n",
       "..                                ...                  ...        ...   \n",
       "486              Statoil Petroleum AS                 057     WILDCAT   \n",
       "487                       BG Norge AS                 297     WILDCAT   \n",
       "488                  Lundin Norway AS                 338   APPRAISAL   \n",
       "489  Det norske oljeselskap ASA (old)                 408     WILDCAT   \n",
       "490             Petro-Canada Norge AS                 375     WILDCAT   \n",
       "\n",
       "    wlbContent wlbReentry wlbStatus            wlbAgeAtTd     wlbAgeWithHc1  \\\n",
       "0          NaN         NO  DRILLING                                     NaN   \n",
       "1          NaN         NO   PLUGGED                                     NaN   \n",
       "2          NaN         NO  DRILLING                                     NaN   \n",
       "3          NaN         NO  DRILLING                                     NaN   \n",
       "4          NaN         NO  DRILLING                                     NaN   \n",
       "..         ...        ...       ...                   ...               ...   \n",
       "486        OIL         NO       P&A  LATE TRIASSIC            LATE TRIASSIC   \n",
       "487        DRY         NO       P&A  LATE TRIASSIC                      NaN   \n",
       "488        OIL         NO       P&A  LATE TRIASSIC         EARLY CRETACEOUS   \n",
       "489        DRY         NO       P&A  LATE TRIASSIC                      NaN   \n",
       "490        OIL         NO       P&A  LATE TRIASSIC          MIDDLE JURASSIC   \n",
       "\n",
       "    datesyncNPD  \n",
       "0    2019-09-23  \n",
       "1    2019-09-23  \n",
       "2    2019-09-23  \n",
       "3    2019-09-23  \n",
       "4    2019-09-23  \n",
       "..          ...  \n",
       "486  2019-09-23  \n",
       "487  2019-09-23  \n",
       "488  2019-09-23  \n",
       "489  2019-09-23  \n",
       "490  2019-09-23  \n",
       "\n",
       "[491 rows x 12 columns]"
      ]
     },
     "execution_count": 11,
     "metadata": {},
     "output_type": "execute_result"
    }
   ],
   "source": [
    "exploration"
   ]
  },
  {
   "cell_type": "markdown",
   "metadata": {},
   "source": [
    "The column `wlbPurpose` contains the following two categories:\n",
    "\n",
    "- `Wildcat` is exploratory drilling, to find if there is delivery.\n",
    "- `Appraisal` is post-discovery, to find how large a field is and its composition.\n",
    "\n",
    "The column `wlbContent` provides information on what was found in the well, if anything."
   ]
  },
  {
   "cell_type": "code",
   "execution_count": 17,
   "metadata": {},
   "outputs": [
    {
     "data": {
      "text/html": [
       "<div>\n",
       "<style scoped>\n",
       "    .dataframe tbody tr th:only-of-type {\n",
       "        vertical-align: middle;\n",
       "    }\n",
       "\n",
       "    .dataframe tbody tr th {\n",
       "        vertical-align: top;\n",
       "    }\n",
       "\n",
       "    .dataframe thead th {\n",
       "        text-align: right;\n",
       "    }\n",
       "</style>\n",
       "<table border=\"1\" class=\"dataframe\">\n",
       "  <thead>\n",
       "    <tr style=\"text-align: right;\">\n",
       "      <th></th>\n",
       "      <th>wlbPurpose</th>\n",
       "      <th>count</th>\n",
       "    </tr>\n",
       "  </thead>\n",
       "  <tbody>\n",
       "    <tr>\n",
       "      <th>0</th>\n",
       "      <td>APPRAISAL</td>\n",
       "      <td>155</td>\n",
       "    </tr>\n",
       "    <tr>\n",
       "      <th>1</th>\n",
       "      <td>WILDCAT</td>\n",
       "      <td>336</td>\n",
       "    </tr>\n",
       "  </tbody>\n",
       "</table>\n",
       "</div>"
      ],
      "text/plain": [
       "  wlbPurpose  count\n",
       "0  APPRAISAL    155\n",
       "1    WILDCAT    336"
      ]
     },
     "execution_count": 17,
     "metadata": {},
     "output_type": "execute_result"
    }
   ],
   "source": [
    "exploration.groupby(['wlbPurpose']).size().reset_index(name='count')"
   ]
  },
  {
   "cell_type": "code",
   "execution_count": 14,
   "metadata": {},
   "outputs": [
    {
     "data": {
      "text/html": [
       "<div>\n",
       "<style scoped>\n",
       "    .dataframe tbody tr th:only-of-type {\n",
       "        vertical-align: middle;\n",
       "    }\n",
       "\n",
       "    .dataframe tbody tr th {\n",
       "        vertical-align: top;\n",
       "    }\n",
       "\n",
       "    .dataframe thead th {\n",
       "        text-align: right;\n",
       "    }\n",
       "</style>\n",
       "<table border=\"1\" class=\"dataframe\">\n",
       "  <thead>\n",
       "    <tr style=\"text-align: right;\">\n",
       "      <th></th>\n",
       "      <th>wlbPurpose</th>\n",
       "      <th>wlbContent</th>\n",
       "      <th>count</th>\n",
       "    </tr>\n",
       "  </thead>\n",
       "  <tbody>\n",
       "    <tr>\n",
       "      <th>0</th>\n",
       "      <td>APPRAISAL</td>\n",
       "      <td>DRY</td>\n",
       "      <td>19</td>\n",
       "    </tr>\n",
       "    <tr>\n",
       "      <th>1</th>\n",
       "      <td>APPRAISAL</td>\n",
       "      <td>GAS</td>\n",
       "      <td>10</td>\n",
       "    </tr>\n",
       "    <tr>\n",
       "      <th>2</th>\n",
       "      <td>APPRAISAL</td>\n",
       "      <td>GAS/CONDENSATE</td>\n",
       "      <td>3</td>\n",
       "    </tr>\n",
       "    <tr>\n",
       "      <th>3</th>\n",
       "      <td>APPRAISAL</td>\n",
       "      <td>NOT APPLICABLE</td>\n",
       "      <td>5</td>\n",
       "    </tr>\n",
       "    <tr>\n",
       "      <th>4</th>\n",
       "      <td>APPRAISAL</td>\n",
       "      <td>NOT AVAILABLE</td>\n",
       "      <td>1</td>\n",
       "    </tr>\n",
       "    <tr>\n",
       "      <th>5</th>\n",
       "      <td>APPRAISAL</td>\n",
       "      <td>OIL</td>\n",
       "      <td>75</td>\n",
       "    </tr>\n",
       "    <tr>\n",
       "      <th>6</th>\n",
       "      <td>APPRAISAL</td>\n",
       "      <td>OIL SHOWS</td>\n",
       "      <td>2</td>\n",
       "    </tr>\n",
       "    <tr>\n",
       "      <th>7</th>\n",
       "      <td>APPRAISAL</td>\n",
       "      <td>OIL/GAS</td>\n",
       "      <td>32</td>\n",
       "    </tr>\n",
       "    <tr>\n",
       "      <th>8</th>\n",
       "      <td>APPRAISAL</td>\n",
       "      <td>SHOWS</td>\n",
       "      <td>3</td>\n",
       "    </tr>\n",
       "    <tr>\n",
       "      <th>9</th>\n",
       "      <td>WILDCAT</td>\n",
       "      <td>DRY</td>\n",
       "      <td>158</td>\n",
       "    </tr>\n",
       "    <tr>\n",
       "      <th>10</th>\n",
       "      <td>WILDCAT</td>\n",
       "      <td>GAS</td>\n",
       "      <td>41</td>\n",
       "    </tr>\n",
       "    <tr>\n",
       "      <th>11</th>\n",
       "      <td>WILDCAT</td>\n",
       "      <td>GAS/CONDENSATE</td>\n",
       "      <td>19</td>\n",
       "    </tr>\n",
       "    <tr>\n",
       "      <th>12</th>\n",
       "      <td>WILDCAT</td>\n",
       "      <td>NOT APPLICABLE</td>\n",
       "      <td>7</td>\n",
       "    </tr>\n",
       "    <tr>\n",
       "      <th>13</th>\n",
       "      <td>WILDCAT</td>\n",
       "      <td>OIL</td>\n",
       "      <td>53</td>\n",
       "    </tr>\n",
       "    <tr>\n",
       "      <th>14</th>\n",
       "      <td>WILDCAT</td>\n",
       "      <td>OIL SHOWS</td>\n",
       "      <td>2</td>\n",
       "    </tr>\n",
       "    <tr>\n",
       "      <th>15</th>\n",
       "      <td>WILDCAT</td>\n",
       "      <td>OIL/GAS</td>\n",
       "      <td>33</td>\n",
       "    </tr>\n",
       "    <tr>\n",
       "      <th>16</th>\n",
       "      <td>WILDCAT</td>\n",
       "      <td>OIL/GAS/CONDENSATE</td>\n",
       "      <td>6</td>\n",
       "    </tr>\n",
       "    <tr>\n",
       "      <th>17</th>\n",
       "      <td>WILDCAT</td>\n",
       "      <td>SHOWS</td>\n",
       "      <td>10</td>\n",
       "    </tr>\n",
       "  </tbody>\n",
       "</table>\n",
       "</div>"
      ],
      "text/plain": [
       "   wlbPurpose          wlbContent  count\n",
       "0   APPRAISAL                 DRY     19\n",
       "1   APPRAISAL                 GAS     10\n",
       "2   APPRAISAL      GAS/CONDENSATE      3\n",
       "3   APPRAISAL      NOT APPLICABLE      5\n",
       "4   APPRAISAL       NOT AVAILABLE      1\n",
       "5   APPRAISAL                 OIL     75\n",
       "6   APPRAISAL           OIL SHOWS      2\n",
       "7   APPRAISAL             OIL/GAS     32\n",
       "8   APPRAISAL               SHOWS      3\n",
       "9     WILDCAT                 DRY    158\n",
       "10    WILDCAT                 GAS     41\n",
       "11    WILDCAT      GAS/CONDENSATE     19\n",
       "12    WILDCAT      NOT APPLICABLE      7\n",
       "13    WILDCAT                 OIL     53\n",
       "14    WILDCAT           OIL SHOWS      2\n",
       "15    WILDCAT             OIL/GAS     33\n",
       "16    WILDCAT  OIL/GAS/CONDENSATE      6\n",
       "17    WILDCAT               SHOWS     10"
      ]
     },
     "execution_count": 14,
     "metadata": {},
     "output_type": "execute_result"
    }
   ],
   "source": [
    "exploration.groupby(['wlbPurpose', 'wlbContent']).size().reset_index(name='count')"
   ]
  },
  {
   "cell_type": "markdown",
   "metadata": {},
   "source": [
    "`Condensate`: natural gas condensate, i.e. natural gas in liquid form. \n",
    "\n",
    "`Shows`: trace amounts of hydrocarbons (little found)\n",
    "\n",
    "`Dry`: wells where nothing is found \n",
    "\n",
    "We see the **majority of wildcat drilling is risky**, majority of wells are dry (158 out of 336 wildcat wells). Let us visualise this information with a bar chart."
   ]
  },
  {
   "cell_type": "code",
   "execution_count": 27,
   "metadata": {},
   "outputs": [
    {
     "data": {
      "image/png": "[encoded data removed]",
      "text/plain": [
       "<Figure size 640x480 with 1 Axes>"
      ]
     },
     "metadata": {},
     "output_type": "display_data"
    }
   ],
   "source": [
    "plt.bar(exploration[exploration['wlbPurpose']=='WILDCAT'].groupby('wlbContent').size().reset_index(name='counts').sort_values(by='counts', ascending=False)['wlbContent'], exploration[exploration['wlbPurpose']=='WILDCAT'].groupby('wlbContent').size().reset_index(name='counts').sort_values(by='counts', ascending=False)['counts'], color='skyblue', alpha=0.8)\n",
    "plt.xlabel('wlbContent')\n",
    "plt.ylabel('Count')\n",
    "plt.title('Counts of wlbContent for wlbPurpose = WILDCAT')\n",
    "plt.xticks(rotation=45, ha='right')\n",
    "plt.grid(axis='y', linestyle='--', alpha=0.7)\n",
    "plt.tight_layout()\n",
    "\n",
    "# Show the plot\n",
    "plt.show()"
   ]
  },
  {
   "cell_type": "markdown",
   "metadata": {},
   "source": [
    "We add a `year` feature in `exploration` using `wlbEntryDate`"
   ]
  },
  {
   "cell_type": "code",
   "execution_count": 180,
   "metadata": {},
   "outputs": [],
   "source": [
    "exploration['year'] = exploration['wlbEntryDate'].dt.year"
   ]
  },
  {
   "cell_type": "markdown",
   "metadata": {},
   "source": [
    "Find the number of wells drilled per year, given by the `wlbEntryDate` year"
   ]
  },
  {
   "cell_type": "code",
   "execution_count": 32,
   "metadata": {},
   "outputs": [
    {
     "data": {
      "text/html": [
       "<div>\n",
       "<style scoped>\n",
       "    .dataframe tbody tr th:only-of-type {\n",
       "        vertical-align: middle;\n",
       "    }\n",
       "\n",
       "    .dataframe tbody tr th {\n",
       "        vertical-align: top;\n",
       "    }\n",
       "\n",
       "    .dataframe thead th {\n",
       "        text-align: right;\n",
       "    }\n",
       "</style>\n",
       "<table border=\"1\" class=\"dataframe\">\n",
       "  <thead>\n",
       "    <tr style=\"text-align: right;\">\n",
       "      <th></th>\n",
       "      <th>wlbWellboreName</th>\n",
       "      <th>wlbEntryDate</th>\n",
       "      <th>wlbCompletionDate</th>\n",
       "      <th>wlbDrillingOperator</th>\n",
       "      <th>wlbProductionLicence</th>\n",
       "      <th>wlbPurpose</th>\n",
       "      <th>wlbContent</th>\n",
       "      <th>wlbReentry</th>\n",
       "      <th>wlbStatus</th>\n",
       "      <th>wlbAgeAtTd</th>\n",
       "      <th>wlbAgeWithHc1</th>\n",
       "      <th>datesyncNPD</th>\n",
       "      <th>year</th>\n",
       "    </tr>\n",
       "  </thead>\n",
       "  <tbody>\n",
       "    <tr>\n",
       "      <th>0</th>\n",
       "      <td>25/4-14 B</td>\n",
       "      <td>2019-09-17</td>\n",
       "      <td>NaT</td>\n",
       "      <td>Aker BP ASA</td>\n",
       "      <td>036 C</td>\n",
       "      <td>APPRAISAL</td>\n",
       "      <td>NaN</td>\n",
       "      <td>NO</td>\n",
       "      <td>DRILLING</td>\n",
       "      <td></td>\n",
       "      <td>NaN</td>\n",
       "      <td>2019-09-23</td>\n",
       "      <td>2019</td>\n",
       "    </tr>\n",
       "    <tr>\n",
       "      <th>1</th>\n",
       "      <td>25/4-14 A</td>\n",
       "      <td>2019-09-10</td>\n",
       "      <td>2019-09-16</td>\n",
       "      <td>Aker BP ASA</td>\n",
       "      <td>036 C</td>\n",
       "      <td>APPRAISAL</td>\n",
       "      <td>NaN</td>\n",
       "      <td>NO</td>\n",
       "      <td>PLUGGED</td>\n",
       "      <td></td>\n",
       "      <td>NaN</td>\n",
       "      <td>2019-09-23</td>\n",
       "      <td>2019</td>\n",
       "    </tr>\n",
       "    <tr>\n",
       "      <th>2</th>\n",
       "      <td>32/4-2</td>\n",
       "      <td>2019-09-09</td>\n",
       "      <td>NaT</td>\n",
       "      <td>Equinor Energy AS</td>\n",
       "      <td>921</td>\n",
       "      <td>WILDCAT</td>\n",
       "      <td>NaN</td>\n",
       "      <td>NO</td>\n",
       "      <td>DRILLING</td>\n",
       "      <td></td>\n",
       "      <td>NaN</td>\n",
       "      <td>2019-09-23</td>\n",
       "      <td>2019</td>\n",
       "    </tr>\n",
       "    <tr>\n",
       "      <th>3</th>\n",
       "      <td>2/1-17 S</td>\n",
       "      <td>2019-08-30</td>\n",
       "      <td>NaT</td>\n",
       "      <td>Aker BP ASA</td>\n",
       "      <td>019 C</td>\n",
       "      <td>WILDCAT</td>\n",
       "      <td>NaN</td>\n",
       "      <td>NO</td>\n",
       "      <td>DRILLING</td>\n",
       "      <td></td>\n",
       "      <td>NaN</td>\n",
       "      <td>2019-09-23</td>\n",
       "      <td>2019</td>\n",
       "    </tr>\n",
       "    <tr>\n",
       "      <th>4</th>\n",
       "      <td>6507/5-9 S</td>\n",
       "      <td>2019-08-30</td>\n",
       "      <td>NaT</td>\n",
       "      <td>PGNiG Upstream Norway AS</td>\n",
       "      <td>838</td>\n",
       "      <td>WILDCAT</td>\n",
       "      <td>NaN</td>\n",
       "      <td>NO</td>\n",
       "      <td>DRILLING</td>\n",
       "      <td></td>\n",
       "      <td>NaN</td>\n",
       "      <td>2019-09-23</td>\n",
       "      <td>2019</td>\n",
       "    </tr>\n",
       "  </tbody>\n",
       "</table>\n",
       "</div>"
      ],
      "text/plain": [
       "  wlbWellboreName wlbEntryDate wlbCompletionDate       wlbDrillingOperator  \\\n",
       "0       25/4-14 B   2019-09-17               NaT               Aker BP ASA   \n",
       "1       25/4-14 A   2019-09-10        2019-09-16               Aker BP ASA   \n",
       "2          32/4-2   2019-09-09               NaT         Equinor Energy AS   \n",
       "3        2/1-17 S   2019-08-30               NaT               Aker BP ASA   \n",
       "4      6507/5-9 S   2019-08-30               NaT  PGNiG Upstream Norway AS   \n",
       "\n",
       "  wlbProductionLicence wlbPurpose wlbContent wlbReentry wlbStatus  \\\n",
       "0                036 C  APPRAISAL        NaN         NO  DRILLING   \n",
       "1                036 C  APPRAISAL        NaN         NO   PLUGGED   \n",
       "2                 921     WILDCAT        NaN         NO  DRILLING   \n",
       "3                019 C    WILDCAT        NaN         NO  DRILLING   \n",
       "4                 838     WILDCAT        NaN         NO  DRILLING   \n",
       "\n",
       "             wlbAgeAtTd wlbAgeWithHc1 datesyncNPD  year  \n",
       "0                                 NaN  2019-09-23  2019  \n",
       "1                                 NaN  2019-09-23  2019  \n",
       "2                                 NaN  2019-09-23  2019  \n",
       "3                                 NaN  2019-09-23  2019  \n",
       "4                                 NaN  2019-09-23  2019  "
      ]
     },
     "execution_count": 32,
     "metadata": {},
     "output_type": "execute_result"
    }
   ],
   "source": [
    "exploration.head()"
   ]
  },
  {
   "cell_type": "code",
   "execution_count": 34,
   "metadata": {},
   "outputs": [
    {
     "data": {
      "text/html": [
       "<div>\n",
       "<style scoped>\n",
       "    .dataframe tbody tr th:only-of-type {\n",
       "        vertical-align: middle;\n",
       "    }\n",
       "\n",
       "    .dataframe tbody tr th {\n",
       "        vertical-align: top;\n",
       "    }\n",
       "\n",
       "    .dataframe thead th {\n",
       "        text-align: right;\n",
       "    }\n",
       "</style>\n",
       "<table border=\"1\" class=\"dataframe\">\n",
       "  <thead>\n",
       "    <tr style=\"text-align: right;\">\n",
       "      <th></th>\n",
       "      <th>year</th>\n",
       "      <th>number_wells</th>\n",
       "    </tr>\n",
       "  </thead>\n",
       "  <tbody>\n",
       "    <tr>\n",
       "      <th>0</th>\n",
       "      <td>2009</td>\n",
       "      <td>5</td>\n",
       "    </tr>\n",
       "    <tr>\n",
       "      <th>1</th>\n",
       "      <td>2010</td>\n",
       "      <td>46</td>\n",
       "    </tr>\n",
       "    <tr>\n",
       "      <th>2</th>\n",
       "      <td>2011</td>\n",
       "      <td>52</td>\n",
       "    </tr>\n",
       "    <tr>\n",
       "      <th>3</th>\n",
       "      <td>2012</td>\n",
       "      <td>43</td>\n",
       "    </tr>\n",
       "    <tr>\n",
       "      <th>4</th>\n",
       "      <td>2013</td>\n",
       "      <td>59</td>\n",
       "    </tr>\n",
       "    <tr>\n",
       "      <th>5</th>\n",
       "      <td>2014</td>\n",
       "      <td>57</td>\n",
       "    </tr>\n",
       "    <tr>\n",
       "      <th>6</th>\n",
       "      <td>2015</td>\n",
       "      <td>56</td>\n",
       "    </tr>\n",
       "    <tr>\n",
       "      <th>7</th>\n",
       "      <td>2016</td>\n",
       "      <td>38</td>\n",
       "    </tr>\n",
       "    <tr>\n",
       "      <th>8</th>\n",
       "      <td>2017</td>\n",
       "      <td>36</td>\n",
       "    </tr>\n",
       "    <tr>\n",
       "      <th>9</th>\n",
       "      <td>2018</td>\n",
       "      <td>53</td>\n",
       "    </tr>\n",
       "    <tr>\n",
       "      <th>10</th>\n",
       "      <td>2019</td>\n",
       "      <td>46</td>\n",
       "    </tr>\n",
       "  </tbody>\n",
       "</table>\n",
       "</div>"
      ],
      "text/plain": [
       "    year  number_wells\n",
       "0   2009             5\n",
       "1   2010            46\n",
       "2   2011            52\n",
       "3   2012            43\n",
       "4   2013            59\n",
       "5   2014            57\n",
       "6   2015            56\n",
       "7   2016            38\n",
       "8   2017            36\n",
       "9   2018            53\n",
       "10  2019            46"
      ]
     },
     "execution_count": 34,
     "metadata": {},
     "output_type": "execute_result"
    }
   ],
   "source": [
    "exploration.groupby('year').size().reset_index(name='number_wells')"
   ]
  },
  {
   "cell_type": "markdown",
   "metadata": {},
   "source": [
    "There were very few wells in 2009, given the large losses endured by oil producers following the oil crisis when the crude oil futures dipped from around $140/bbl to around $40/bbl. Stimulus packages in China managed to save demand for commodities, and a short time later, prices soared again. "
   ]
  },
  {
   "cell_type": "markdown",
   "metadata": {},
   "source": [
    "Plot a bar chart considering only the `Wildcat` category, still count/year"
   ]
  },
  {
   "cell_type": "code",
   "execution_count": 36,
   "metadata": {},
   "outputs": [
    {
     "data": {
      "text/html": [
       "<div>\n",
       "<style scoped>\n",
       "    .dataframe tbody tr th:only-of-type {\n",
       "        vertical-align: middle;\n",
       "    }\n",
       "\n",
       "    .dataframe tbody tr th {\n",
       "        vertical-align: top;\n",
       "    }\n",
       "\n",
       "    .dataframe thead th {\n",
       "        text-align: right;\n",
       "    }\n",
       "</style>\n",
       "<table border=\"1\" class=\"dataframe\">\n",
       "  <thead>\n",
       "    <tr style=\"text-align: right;\">\n",
       "      <th></th>\n",
       "      <th>year</th>\n",
       "      <th>number_wells</th>\n",
       "    </tr>\n",
       "  </thead>\n",
       "  <tbody>\n",
       "    <tr>\n",
       "      <th>0</th>\n",
       "      <td>2009</td>\n",
       "      <td>4</td>\n",
       "    </tr>\n",
       "    <tr>\n",
       "      <th>1</th>\n",
       "      <td>2010</td>\n",
       "      <td>34</td>\n",
       "    </tr>\n",
       "    <tr>\n",
       "      <th>2</th>\n",
       "      <td>2011</td>\n",
       "      <td>35</td>\n",
       "    </tr>\n",
       "    <tr>\n",
       "      <th>3</th>\n",
       "      <td>2012</td>\n",
       "      <td>27</td>\n",
       "    </tr>\n",
       "    <tr>\n",
       "      <th>4</th>\n",
       "      <td>2013</td>\n",
       "      <td>42</td>\n",
       "    </tr>\n",
       "    <tr>\n",
       "      <th>5</th>\n",
       "      <td>2014</td>\n",
       "      <td>41</td>\n",
       "    </tr>\n",
       "    <tr>\n",
       "      <th>6</th>\n",
       "      <td>2015</td>\n",
       "      <td>39</td>\n",
       "    </tr>\n",
       "    <tr>\n",
       "      <th>7</th>\n",
       "      <td>2016</td>\n",
       "      <td>29</td>\n",
       "    </tr>\n",
       "    <tr>\n",
       "      <th>8</th>\n",
       "      <td>2017</td>\n",
       "      <td>24</td>\n",
       "    </tr>\n",
       "    <tr>\n",
       "      <th>9</th>\n",
       "      <td>2018</td>\n",
       "      <td>28</td>\n",
       "    </tr>\n",
       "    <tr>\n",
       "      <th>10</th>\n",
       "      <td>2019</td>\n",
       "      <td>33</td>\n",
       "    </tr>\n",
       "  </tbody>\n",
       "</table>\n",
       "</div>"
      ],
      "text/plain": [
       "    year  number_wells\n",
       "0   2009             4\n",
       "1   2010            34\n",
       "2   2011            35\n",
       "3   2012            27\n",
       "4   2013            42\n",
       "5   2014            41\n",
       "6   2015            39\n",
       "7   2016            29\n",
       "8   2017            24\n",
       "9   2018            28\n",
       "10  2019            33"
      ]
     },
     "execution_count": 36,
     "metadata": {},
     "output_type": "execute_result"
    }
   ],
   "source": [
    "exploration[exploration['wlbPurpose']=='WILDCAT'].groupby('year').size().reset_index(name='number_wells')\n"
   ]
  },
  {
   "cell_type": "code",
   "execution_count": 39,
   "metadata": {},
   "outputs": [
    {
     "data": {
      "image/png": "[encoded data removed]",
      "text/plain": [
       "<Figure size 640x480 with 1 Axes>"
      ]
     },
     "metadata": {},
     "output_type": "display_data"
    }
   ],
   "source": [
    "plt.bar(exploration[exploration['wlbPurpose']=='WILDCAT'].groupby('year').size().reset_index(name='number_wells').iloc[1:]['year'], exploration[exploration['wlbPurpose']=='WILDCAT'].groupby('year').size().reset_index(name='number_wells').iloc[1:]['number_wells'], color='skyblue', alpha=0.8)\n",
    "plt.xlabel('Year')\n",
    "plt.ylabel('Count of Wildcat Wells Drilled')\n",
    "plt.title('Count of Wildcat Wells Drilled Each Year')\n",
    "plt.xticks(rotation=45, ha='right')\n",
    "plt.grid(axis='y', linestyle='--', alpha=0.7)\n",
    "plt.tight_layout()\n",
    "\n",
    "# Show the plot\n",
    "plt.show()"
   ]
  },
  {
   "cell_type": "markdown",
   "metadata": {},
   "source": [
    "In the previous part, we saw that the price of Brent dropped singificantly from the 2013 average of around $100/bbl when it halved to an average $50/bbl in 2015. This led to a decrease in CAPEX, which is expressed here as a decreased count of exploratory wells drilled each year. This is a way for production firms to increase their margins and be more profitable. This may lead to increased share buybacks by management. "
   ]
  },
  {
   "cell_type": "markdown",
   "metadata": {},
   "source": [
    "### Analysis of equity, cash and debt plot from Part 2 and relating it to wildcat well production"
   ]
  },
  {
   "attachments": {
    "image.png": {
     "image/png": "[encoded data removed]"
    }
   },
   "cell_type": "markdown",
   "metadata": {},
   "source": [
    "![image.png](attachment:image.png)"
   ]
  },
  {
   "cell_type": "markdown",
   "metadata": {},
   "source": [
    "1. Debt shows a steady increase from 2010 to 2014. Firms may be leveraging to finance large projects, in anticipation of rising oil pricesor future growth.\n",
    "2. Equity also grows steadily but begins to also decrease in 2015. While firms were reinvesting profits into capital projects, there may have been a shift in capital allocation toward debt or buybacks in 2015.\n",
    "3. Cash levels jumped sharply from 2011 to 2013. This may reflect strong operational cash flows due to favourable oil prices or asset sales. The decline post-2013 could indicate firms used cash to pay down debt, fund operations or return capital to shareholders. \n",
    "\n",
    "\n",
    "Increasing debt and stable equity from 2010 to 2014 shows firms preferred leverage over equity issuance to finance growth. The equity decline in 2015 corresponds to the sharp fall in oil prices when firms reduced investment in capital projects, shift from growth to survival mode. The cash drop also corresponds to when oil prices declined. \n",
    "\n",
    "Between 2010-2014, exploration activity of wildcat wells increased. Post-201', as oil prices tumbled, exploration activity declined sharply (low point of 24 in 2017 during period of low prices). \n",
    "\n",
    "Wildcat drilling still shows high wildcat well drilling (39 over 2015), even though oil price had already significantly decreased to around $50/bbl. This lag could be explained by pre-existing commitments to projects initiated before prices fell. Continued drilling despite the low price environment may be explained by will to secure reserves, while the rest of the industry is not competing for drilling. "
   ]
  },
  {
   "cell_type": "markdown",
   "metadata": {},
   "source": [
    "### Matching exploration data (`exploration`) with company financial data ( `AS_data`)"
   ]
  },
  {
   "cell_type": "markdown",
   "metadata": {},
   "source": [
    "Hypothesis is that the decision to drill an exploratory well is linked to the financial condition of a drilling company. We import company data similar to that in Section 2."
   ]
  },
  {
   "cell_type": "code",
   "execution_count": 40,
   "metadata": {},
   "outputs": [],
   "source": [
    "AS_data = pd.read_csv(\"accounting_cleanData.csv\")"
   ]
  },
  {
   "cell_type": "markdown",
   "metadata": {},
   "source": [
    "The `AS_data` also includes the company name, just like in `exploration` dataset `wlbDrillingOperator`, but it may prove difficult to match the company names in the presence of typos and different naming conventions. It does contain a company ID, which identifies the company in the Norwegian company register. We attempt to match the company ID with the Norwegian Petroleum Directorate ID for companies active in the NCS. This data is obtained from the NPD webpages and download it in a cleaner format from jmaurit's github page. A new `company` DataFrame is created."
   ]
  },
  {
   "cell_type": "code",
   "execution_count": 78,
   "metadata": {},
   "outputs": [
    {
     "data": {
      "text/html": [
       "<div>\n",
       "<style scoped>\n",
       "    .dataframe tbody tr th:only-of-type {\n",
       "        vertical-align: middle;\n",
       "    }\n",
       "\n",
       "    .dataframe tbody tr th {\n",
       "        vertical-align: top;\n",
       "    }\n",
       "\n",
       "    .dataframe thead th {\n",
       "        text-align: right;\n",
       "    }\n",
       "</style>\n",
       "<table border=\"1\" class=\"dataframe\">\n",
       "  <thead>\n",
       "    <tr style=\"text-align: right;\">\n",
       "      <th></th>\n",
       "      <th>wlbWellboreName</th>\n",
       "      <th>wlbEntryDate</th>\n",
       "      <th>wlbCompletionDate</th>\n",
       "      <th>wlbDrillingOperator</th>\n",
       "      <th>wlbProductionLicence</th>\n",
       "      <th>wlbPurpose</th>\n",
       "      <th>wlbContent</th>\n",
       "      <th>wlbReentry</th>\n",
       "      <th>wlbStatus</th>\n",
       "      <th>wlbAgeAtTd</th>\n",
       "      <th>wlbAgeWithHc1</th>\n",
       "      <th>datesyncNPD</th>\n",
       "      <th>year</th>\n",
       "    </tr>\n",
       "  </thead>\n",
       "  <tbody>\n",
       "    <tr>\n",
       "      <th>0</th>\n",
       "      <td>25/4-14 B</td>\n",
       "      <td>2019-09-17</td>\n",
       "      <td>NaT</td>\n",
       "      <td>Aker BP ASA</td>\n",
       "      <td>036 C</td>\n",
       "      <td>APPRAISAL</td>\n",
       "      <td>NaN</td>\n",
       "      <td>NO</td>\n",
       "      <td>DRILLING</td>\n",
       "      <td></td>\n",
       "      <td>NaN</td>\n",
       "      <td>2019-09-23</td>\n",
       "      <td>2019</td>\n",
       "    </tr>\n",
       "    <tr>\n",
       "      <th>1</th>\n",
       "      <td>25/4-14 A</td>\n",
       "      <td>2019-09-10</td>\n",
       "      <td>2019-09-16</td>\n",
       "      <td>Aker BP ASA</td>\n",
       "      <td>036 C</td>\n",
       "      <td>APPRAISAL</td>\n",
       "      <td>NaN</td>\n",
       "      <td>NO</td>\n",
       "      <td>PLUGGED</td>\n",
       "      <td></td>\n",
       "      <td>NaN</td>\n",
       "      <td>2019-09-23</td>\n",
       "      <td>2019</td>\n",
       "    </tr>\n",
       "    <tr>\n",
       "      <th>2</th>\n",
       "      <td>32/4-2</td>\n",
       "      <td>2019-09-09</td>\n",
       "      <td>NaT</td>\n",
       "      <td>Equinor Energy AS</td>\n",
       "      <td>921</td>\n",
       "      <td>WILDCAT</td>\n",
       "      <td>NaN</td>\n",
       "      <td>NO</td>\n",
       "      <td>DRILLING</td>\n",
       "      <td></td>\n",
       "      <td>NaN</td>\n",
       "      <td>2019-09-23</td>\n",
       "      <td>2019</td>\n",
       "    </tr>\n",
       "    <tr>\n",
       "      <th>3</th>\n",
       "      <td>2/1-17 S</td>\n",
       "      <td>2019-08-30</td>\n",
       "      <td>NaT</td>\n",
       "      <td>Aker BP ASA</td>\n",
       "      <td>019 C</td>\n",
       "      <td>WILDCAT</td>\n",
       "      <td>NaN</td>\n",
       "      <td>NO</td>\n",
       "      <td>DRILLING</td>\n",
       "      <td></td>\n",
       "      <td>NaN</td>\n",
       "      <td>2019-09-23</td>\n",
       "      <td>2019</td>\n",
       "    </tr>\n",
       "    <tr>\n",
       "      <th>4</th>\n",
       "      <td>6507/5-9 S</td>\n",
       "      <td>2019-08-30</td>\n",
       "      <td>NaT</td>\n",
       "      <td>PGNiG Upstream Norway AS</td>\n",
       "      <td>838</td>\n",
       "      <td>WILDCAT</td>\n",
       "      <td>NaN</td>\n",
       "      <td>NO</td>\n",
       "      <td>DRILLING</td>\n",
       "      <td></td>\n",
       "      <td>NaN</td>\n",
       "      <td>2019-09-23</td>\n",
       "      <td>2019</td>\n",
       "    </tr>\n",
       "  </tbody>\n",
       "</table>\n",
       "</div>"
      ],
      "text/plain": [
       "  wlbWellboreName wlbEntryDate wlbCompletionDate       wlbDrillingOperator  \\\n",
       "0       25/4-14 B   2019-09-17               NaT               Aker BP ASA   \n",
       "1       25/4-14 A   2019-09-10        2019-09-16               Aker BP ASA   \n",
       "2          32/4-2   2019-09-09               NaT         Equinor Energy AS   \n",
       "3        2/1-17 S   2019-08-30               NaT               Aker BP ASA   \n",
       "4      6507/5-9 S   2019-08-30               NaT  PGNiG Upstream Norway AS   \n",
       "\n",
       "  wlbProductionLicence wlbPurpose wlbContent wlbReentry wlbStatus  \\\n",
       "0                036 C  APPRAISAL        NaN         NO  DRILLING   \n",
       "1                036 C  APPRAISAL        NaN         NO   PLUGGED   \n",
       "2                 921     WILDCAT        NaN         NO  DRILLING   \n",
       "3                019 C    WILDCAT        NaN         NO  DRILLING   \n",
       "4                 838     WILDCAT        NaN         NO  DRILLING   \n",
       "\n",
       "             wlbAgeAtTd wlbAgeWithHc1 datesyncNPD  year  \n",
       "0                                 NaN  2019-09-23  2019  \n",
       "1                                 NaN  2019-09-23  2019  \n",
       "2                                 NaN  2019-09-23  2019  \n",
       "3                                 NaN  2019-09-23  2019  \n",
       "4                                 NaN  2019-09-23  2019  "
      ]
     },
     "execution_count": 78,
     "metadata": {},
     "output_type": "execute_result"
    }
   ],
   "source": [
    "exploration.head()"
   ]
  },
  {
   "cell_type": "code",
   "execution_count": 181,
   "metadata": {},
   "outputs": [],
   "source": [
    "company = pd.read_csv(\"company.csv\")"
   ]
  },
  {
   "cell_type": "code",
   "execution_count": 61,
   "metadata": {},
   "outputs": [
    {
     "data": {
      "text/plain": [
       "5894683.0"
      ]
     },
     "execution_count": 61,
     "metadata": {},
     "output_type": "execute_result"
    }
   ],
   "source": [
    "company.iloc[773]['Orgnr']"
   ]
  },
  {
   "cell_type": "code",
   "execution_count": 62,
   "metadata": {},
   "outputs": [
    {
     "data": {
      "text/plain": [
       "946680591.0"
      ]
     },
     "execution_count": 62,
     "metadata": {},
     "output_type": "execute_result"
    }
   ],
   "source": [
    "company.iloc[450]['Orgnr']"
   ]
  },
  {
   "cell_type": "markdown",
   "metadata": {},
   "source": [
    "These company IDs in Norwegian register do not seem to all have the same lengths. Change type to `str` and ensure what lengths are in the Series"
   ]
  },
  {
   "cell_type": "markdown",
   "metadata": {},
   "source": [
    "`Orgnr` is the company ID in Norwegian register (float64)\n",
    "\n",
    "`NPD_id` is the NPD company ID (int64)"
   ]
  },
  {
   "cell_type": "markdown",
   "metadata": {},
   "source": [
    "Check if all non-missing values are whole numbers (integers). Despite the column being of type `float64`, there are no fractional parts in any of its values."
   ]
  },
  {
   "cell_type": "code",
   "execution_count": 64,
   "metadata": {},
   "outputs": [
    {
     "data": {
      "text/plain": [
       "True"
      ]
     },
     "execution_count": 64,
     "metadata": {},
     "output_type": "execute_result"
    }
   ],
   "source": [
    "company['Orgnr'].dropna().apply(float.is_integer).all()"
   ]
  },
  {
   "cell_type": "code",
   "execution_count": 182,
   "metadata": {},
   "outputs": [],
   "source": [
    "# change type to integer to remove the .0 decimal point\n",
    "company['Orgnr'] = company['Orgnr'].astype('Int64')\n",
    "# change again to string type to compare lengths of IDs\n",
    "company['Orgnr'] = company['Orgnr'].astype(str)"
   ]
  },
  {
   "cell_type": "code",
   "execution_count": 74,
   "metadata": {},
   "outputs": [
    {
     "data": {
      "text/plain": [
       "Orgnr\n",
       "9    432\n",
       "4    322\n",
       "7     18\n",
       "6      5\n",
       "Name: count, dtype: int64"
      ]
     },
     "execution_count": 74,
     "metadata": {},
     "output_type": "execute_result"
    }
   ],
   "source": [
    "company['Orgnr'].str.len().value_counts()"
   ]
  },
  {
   "cell_type": "markdown",
   "metadata": {},
   "source": [
    "There are four unique lengths of IDs"
   ]
  },
  {
   "cell_type": "code",
   "execution_count": 48,
   "metadata": {},
   "outputs": [],
   "source": [
    "\"\"\"\n",
    "if company['Orgnr'].dropna().apply(float.is_integer).all():\n",
    "    company['Orgnr'] = company['Orgnr'].astype('Int64')\n",
    "\n",
    "else:\n",
    "    company['Orgnr'] = company['Orgnr'].astype(str)\n",
    "\"\"\""
   ]
  },
  {
   "cell_type": "code",
   "execution_count": 75,
   "metadata": {},
   "outputs": [
    {
     "data": {
      "text/plain": [
       "comp_id\n",
       "9    14311\n",
       "Name: count, dtype: int64"
      ]
     },
     "execution_count": 75,
     "metadata": {},
     "output_type": "execute_result"
    }
   ],
   "source": [
    "AS_data['comp_id'].astype(str).str.len().value_counts()"
   ]
  },
  {
   "cell_type": "code",
   "execution_count": 217,
   "metadata": {},
   "outputs": [],
   "source": [
    "AS_data['comp_id'] = AS_data['comp_id'].astype(str)\n",
    "AS_merged = company[['Orgnr', 'NPD_id', 'LongName', 'ShortName']].merge(AS_data, how='inner', left_on='Orgnr', right_on='comp_id')"
   ]
  },
  {
   "cell_type": "markdown",
   "metadata": {},
   "source": [
    "`AS_data` only contains company IDs of length 9, `company` contains company IDs of other lengths"
   ]
  },
  {
   "cell_type": "code",
   "execution_count": 183,
   "metadata": {},
   "outputs": [],
   "source": [
    "license = pd.read_csv(\"licence.csv\")"
   ]
  },
  {
   "cell_type": "markdown",
   "metadata": {},
   "source": [
    "we can match companies using `NPD_id` inside `AS_data` with `cmpNpdidCompany` in `license` DataFrame\n",
    "\n",
    "Steps\n",
    "1. merge `exploration` data with `license` data (both share NPD ids)\n",
    "2. then merge that with company financials `AS_data` "
   ]
  },
  {
   "cell_type": "markdown",
   "metadata": {},
   "source": [
    "Assign simpler names to column names"
   ]
  },
  {
   "cell_type": "code",
   "execution_count": 184,
   "metadata": {},
   "outputs": [],
   "source": [
    "new_column_names = [\n",
    "    \"prlName\",\n",
    "    \"ValidFrom\",\n",
    "    \"ValidTo\",\n",
    "    \"LongName\",\n",
    "    \"licenseeInterest\",\n",
    "    \"licenseeSdfi\",\n",
    "    \"operValidFrom\",\n",
    "    \"operDateValidTo\",\n",
    "    \"NpdidLicence\",\n",
    "    \"cmpNpdidCompany\",\n",
    "    \"LicenseeDateUpdated\",\n",
    "    \"DatesyncNPD\"\n",
    "]\n",
    "\n",
    "license.columns = new_column_names\n"
   ]
  },
  {
   "cell_type": "markdown",
   "metadata": {},
   "source": [
    "Format the variables giving us the dates during which licenses are valid."
   ]
  },
  {
   "cell_type": "code",
   "execution_count": 185,
   "metadata": {},
   "outputs": [],
   "source": [
    "license['ValidFrom'] = pd.to_datetime(license['ValidFrom'], dayfirst=True)\n",
    "license['ValidTo'] = pd.to_datetime(license['ValidTo'], dayfirst=True)"
   ]
  },
  {
   "cell_type": "code",
   "execution_count": 186,
   "metadata": {},
   "outputs": [
    {
     "data": {
      "text/plain": [
       "1702"
      ]
     },
     "execution_count": 186,
     "metadata": {},
     "output_type": "execute_result"
    }
   ],
   "source": [
    "license['ValidTo'].isna().sum()"
   ]
  },
  {
   "cell_type": "markdown",
   "metadata": {},
   "source": [
    "We can see that `ValidTo` is usually a `NaN` value when the `ValidFrom` value is quite recent, indicating that the license is liekly still valid to this day."
   ]
  },
  {
   "cell_type": "code",
   "execution_count": 121,
   "metadata": {},
   "outputs": [
    {
     "data": {
      "text/html": [
       "<div>\n",
       "<style scoped>\n",
       "    .dataframe tbody tr th:only-of-type {\n",
       "        vertical-align: middle;\n",
       "    }\n",
       "\n",
       "    .dataframe tbody tr th {\n",
       "        vertical-align: top;\n",
       "    }\n",
       "\n",
       "    .dataframe thead th {\n",
       "        text-align: right;\n",
       "    }\n",
       "</style>\n",
       "<table border=\"1\" class=\"dataframe\">\n",
       "  <thead>\n",
       "    <tr style=\"text-align: right;\">\n",
       "      <th></th>\n",
       "      <th>ValidFrom</th>\n",
       "      <th>ValidTo</th>\n",
       "    </tr>\n",
       "  </thead>\n",
       "  <tbody>\n",
       "    <tr>\n",
       "      <th>0</th>\n",
       "      <td>2019-08-01</td>\n",
       "      <td>NaT</td>\n",
       "    </tr>\n",
       "    <tr>\n",
       "      <th>1</th>\n",
       "      <td>2019-08-01</td>\n",
       "      <td>NaT</td>\n",
       "    </tr>\n",
       "    <tr>\n",
       "      <th>6</th>\n",
       "      <td>2018-12-04</td>\n",
       "      <td>NaT</td>\n",
       "    </tr>\n",
       "    <tr>\n",
       "      <th>7</th>\n",
       "      <td>2018-12-04</td>\n",
       "      <td>NaT</td>\n",
       "    </tr>\n",
       "    <tr>\n",
       "      <th>8</th>\n",
       "      <td>2018-12-04</td>\n",
       "      <td>NaT</td>\n",
       "    </tr>\n",
       "    <tr>\n",
       "      <th>...</th>\n",
       "      <td>...</td>\n",
       "      <td>...</td>\n",
       "    </tr>\n",
       "    <tr>\n",
       "      <th>26337</th>\n",
       "      <td>2019-03-01</td>\n",
       "      <td>NaT</td>\n",
       "    </tr>\n",
       "    <tr>\n",
       "      <th>26338</th>\n",
       "      <td>2019-03-01</td>\n",
       "      <td>NaT</td>\n",
       "    </tr>\n",
       "    <tr>\n",
       "      <th>26339</th>\n",
       "      <td>2019-03-01</td>\n",
       "      <td>NaT</td>\n",
       "    </tr>\n",
       "    <tr>\n",
       "      <th>26340</th>\n",
       "      <td>2019-03-01</td>\n",
       "      <td>NaT</td>\n",
       "    </tr>\n",
       "    <tr>\n",
       "      <th>26341</th>\n",
       "      <td>2019-03-01</td>\n",
       "      <td>NaT</td>\n",
       "    </tr>\n",
       "  </tbody>\n",
       "</table>\n",
       "<p>1702 rows × 2 columns</p>\n",
       "</div>"
      ],
      "text/plain": [
       "       ValidFrom ValidTo\n",
       "0     2019-08-01     NaT\n",
       "1     2019-08-01     NaT\n",
       "6     2018-12-04     NaT\n",
       "7     2018-12-04     NaT\n",
       "8     2018-12-04     NaT\n",
       "...          ...     ...\n",
       "26337 2019-03-01     NaT\n",
       "26338 2019-03-01     NaT\n",
       "26339 2019-03-01     NaT\n",
       "26340 2019-03-01     NaT\n",
       "26341 2019-03-01     NaT\n",
       "\n",
       "[1702 rows x 2 columns]"
      ]
     },
     "execution_count": 121,
     "metadata": {},
     "output_type": "execute_result"
    }
   ],
   "source": [
    "license[['ValidFrom', 'ValidTo']][license['ValidTo'].isna()]"
   ]
  },
  {
   "cell_type": "markdown",
   "metadata": {},
   "source": [
    "Verify the range of `ValidTo` to understand when the dataset seems to stop."
   ]
  },
  {
   "cell_type": "code",
   "execution_count": 122,
   "metadata": {},
   "outputs": [
    {
     "data": {
      "text/plain": [
       "(Timestamp('1967-01-01 00:00:00'), Timestamp('2019-12-10 00:00:00'))"
      ]
     },
     "execution_count": 122,
     "metadata": {},
     "output_type": "execute_result"
    }
   ],
   "source": [
    "license['ValidTo'].min(), license['ValidTo'].max()"
   ]
  },
  {
   "cell_type": "markdown",
   "metadata": {},
   "source": [
    "Replace `NaN` values in `ValidTo` to `2020-01-01` the very end of the year. `2019-12-10` (Dec. 10) is the last recorded data of the dataset."
   ]
  },
  {
   "cell_type": "code",
   "execution_count": 187,
   "metadata": {},
   "outputs": [],
   "source": [
    "license['ValidTo'] = license['ValidTo'].fillna(pd.to_datetime('2020-01-01'))"
   ]
  },
  {
   "cell_type": "markdown",
   "metadata": {},
   "source": [
    "No remaining missing values in column `ValidTo`"
   ]
  },
  {
   "cell_type": "code",
   "execution_count": 127,
   "metadata": {},
   "outputs": [
    {
     "data": {
      "text/html": [
       "<div>\n",
       "<style scoped>\n",
       "    .dataframe tbody tr th:only-of-type {\n",
       "        vertical-align: middle;\n",
       "    }\n",
       "\n",
       "    .dataframe tbody tr th {\n",
       "        vertical-align: top;\n",
       "    }\n",
       "\n",
       "    .dataframe thead th {\n",
       "        text-align: right;\n",
       "    }\n",
       "</style>\n",
       "<table border=\"1\" class=\"dataframe\">\n",
       "  <thead>\n",
       "    <tr style=\"text-align: right;\">\n",
       "      <th></th>\n",
       "      <th>prlName</th>\n",
       "      <th>ValidFrom</th>\n",
       "      <th>ValidTo</th>\n",
       "      <th>LongName</th>\n",
       "      <th>licenseeInterest</th>\n",
       "      <th>licenseeSdfi</th>\n",
       "      <th>operValidFrom</th>\n",
       "      <th>operDateValidTo</th>\n",
       "      <th>NpdidLicence</th>\n",
       "      <th>cmpNpdidCompany</th>\n",
       "      <th>LicenseeDateUpdated</th>\n",
       "      <th>DatesyncNPD</th>\n",
       "    </tr>\n",
       "  </thead>\n",
       "  <tbody>\n",
       "  </tbody>\n",
       "</table>\n",
       "</div>"
      ],
      "text/plain": [
       "Empty DataFrame\n",
       "Columns: [prlName, ValidFrom, ValidTo, LongName, licenseeInterest, licenseeSdfi, operValidFrom, operDateValidTo, NpdidLicence, cmpNpdidCompany, LicenseeDateUpdated, DatesyncNPD]\n",
       "Index: []"
      ]
     },
     "execution_count": 127,
     "metadata": {},
     "output_type": "execute_result"
    }
   ],
   "source": [
    "license[license['ValidTo'].isna()]"
   ]
  },
  {
   "cell_type": "markdown",
   "metadata": {},
   "source": [
    "### Joining exploration and license datasets"
   ]
  },
  {
   "cell_type": "markdown",
   "metadata": {},
   "source": [
    "Match on production license, but also on the date. There are, however, two date columns in the `license` dataset, `ValidFrom` and `ValidTo`. This can be solved by ensuring that the well-bore entry date (`wlbEntryDate` in `exploration`) is found within the valid from and to dates"
   ]
  },
  {
   "cell_type": "code",
   "execution_count": 188,
   "metadata": {},
   "outputs": [
    {
     "name": "stdout",
     "output_type": "stream",
     "text": [
      "      index wlbProductionLicence prlName\n",
      "0         0                036 C   036 C\n",
      "1         1                036 C   036 C\n",
      "2         2                036 C   036 C\n",
      "3         3                036 C   036 C\n",
      "4         4                036 C   036 C\n",
      "...     ...                  ...     ...\n",
      "3005   3005                 057      NaN\n",
      "3006   3006                 297      NaN\n",
      "3007   3007                 338      NaN\n",
      "3008   3008                 408      NaN\n",
      "3009   3009                 375      NaN\n",
      "\n",
      "[3010 rows x 3 columns]\n"
     ]
    },
    {
     "data": {
      "text/plain": [
       "'057 '"
      ]
     },
     "execution_count": 188,
     "metadata": {},
     "output_type": "execute_result"
    }
   ],
   "source": [
    "z = pd.DataFrame(exploration['wlbProductionLicence']).merge(pd.DataFrame(license['prlName']), how='left', left_on='wlbProductionLicence', right_on='prlName')\n",
    "z = pd.DataFrame(z)\n",
    "z = z.reset_index()\n",
    "\n",
    "# CHECK WHY NO CORRESPONDING `prlName` to license '057' found in `wlbProductionLicence`\n",
    "# even though '057' exists in 'prlName' but it appears as though the code \n",
    "# does not match them \n",
    "print(z)\n",
    "z.iloc[3005]['wlbProductionLicence']\n"
   ]
  },
  {
   "cell_type": "markdown",
   "metadata": {},
   "source": [
    "We see for example that some of the entries in `wlbProductionLicence` have no match in the `prlName` column of `licence` DataFrame. We can check that such an entry should indeed exist in `prlName` (e.g. 057) yet there is no match post-merge"
   ]
  },
  {
   "cell_type": "code",
   "execution_count": 175,
   "metadata": {},
   "outputs": [
    {
     "data": {
      "text/html": [
       "<div>\n",
       "<style scoped>\n",
       "    .dataframe tbody tr th:only-of-type {\n",
       "        vertical-align: middle;\n",
       "    }\n",
       "\n",
       "    .dataframe tbody tr th {\n",
       "        vertical-align: top;\n",
       "    }\n",
       "\n",
       "    .dataframe thead th {\n",
       "        text-align: right;\n",
       "    }\n",
       "</style>\n",
       "<table border=\"1\" class=\"dataframe\">\n",
       "  <thead>\n",
       "    <tr style=\"text-align: right;\">\n",
       "      <th></th>\n",
       "      <th>prlName</th>\n",
       "      <th>ValidFrom</th>\n",
       "      <th>ValidTo</th>\n",
       "      <th>LongName</th>\n",
       "      <th>licenseeInterest</th>\n",
       "      <th>licenseeSdfi</th>\n",
       "      <th>operValidFrom</th>\n",
       "      <th>operDateValidTo</th>\n",
       "      <th>NpdidLicence</th>\n",
       "      <th>cmpNpdidCompany</th>\n",
       "      <th>LicenseeDateUpdated</th>\n",
       "      <th>DatesyncNPD</th>\n",
       "    </tr>\n",
       "  </thead>\n",
       "  <tbody>\n",
       "    <tr>\n",
       "      <th>4829</th>\n",
       "      <td>057</td>\n",
       "      <td>2019-11-13</td>\n",
       "      <td>2020-01-01</td>\n",
       "      <td>Wintershall Dea Norge AS</td>\n",
       "      <td>24.5</td>\n",
       "      <td>NaN</td>\n",
       "      <td>NaN</td>\n",
       "      <td>NaN</td>\n",
       "      <td>21252</td>\n",
       "      <td>35318843</td>\n",
       "      <td>18.11.2019</td>\n",
       "      <td>02.01.2020</td>\n",
       "    </tr>\n",
       "    <tr>\n",
       "      <th>4830</th>\n",
       "      <td>057</td>\n",
       "      <td>2019-11-13</td>\n",
       "      <td>2020-01-01</td>\n",
       "      <td>Vår Energi AS</td>\n",
       "      <td>4.9</td>\n",
       "      <td>NaN</td>\n",
       "      <td>NaN</td>\n",
       "      <td>NaN</td>\n",
       "      <td>21252</td>\n",
       "      <td>33360957</td>\n",
       "      <td>18.11.2019</td>\n",
       "      <td>02.01.2020</td>\n",
       "    </tr>\n",
       "    <tr>\n",
       "      <th>4831</th>\n",
       "      <td>057</td>\n",
       "      <td>2019-11-13</td>\n",
       "      <td>2020-01-01</td>\n",
       "      <td>Equinor Energy AS</td>\n",
       "      <td>31.0</td>\n",
       "      <td>NaN</td>\n",
       "      <td>16.05.2018</td>\n",
       "      <td>NaN</td>\n",
       "      <td>21252</td>\n",
       "      <td>32011216</td>\n",
       "      <td>18.11.2019</td>\n",
       "      <td>02.01.2020</td>\n",
       "    </tr>\n",
       "    <tr>\n",
       "      <th>4832</th>\n",
       "      <td>057</td>\n",
       "      <td>2019-11-13</td>\n",
       "      <td>2020-01-01</td>\n",
       "      <td>Petoro AS</td>\n",
       "      <td>30.0</td>\n",
       "      <td>NaN</td>\n",
       "      <td>NaN</td>\n",
       "      <td>NaN</td>\n",
       "      <td>21252</td>\n",
       "      <td>1626839</td>\n",
       "      <td>18.11.2019</td>\n",
       "      <td>02.01.2020</td>\n",
       "    </tr>\n",
       "    <tr>\n",
       "      <th>4833</th>\n",
       "      <td>057</td>\n",
       "      <td>2019-11-13</td>\n",
       "      <td>2020-01-01</td>\n",
       "      <td>Idemitsu Petroleum Norge AS</td>\n",
       "      <td>9.6</td>\n",
       "      <td>NaN</td>\n",
       "      <td>NaN</td>\n",
       "      <td>NaN</td>\n",
       "      <td>21252</td>\n",
       "      <td>441</td>\n",
       "      <td>18.11.2019</td>\n",
       "      <td>02.01.2020</td>\n",
       "    </tr>\n",
       "  </tbody>\n",
       "</table>\n",
       "</div>"
      ],
      "text/plain": [
       "     prlName  ValidFrom    ValidTo                     LongName  \\\n",
       "4829     057 2019-11-13 2020-01-01     Wintershall Dea Norge AS   \n",
       "4830     057 2019-11-13 2020-01-01                Vår Energi AS   \n",
       "4831     057 2019-11-13 2020-01-01            Equinor Energy AS   \n",
       "4832     057 2019-11-13 2020-01-01                    Petoro AS   \n",
       "4833     057 2019-11-13 2020-01-01  Idemitsu Petroleum Norge AS   \n",
       "\n",
       "      licenseeInterest  licenseeSdfi operValidFrom operDateValidTo  \\\n",
       "4829              24.5           NaN           NaN             NaN   \n",
       "4830               4.9           NaN           NaN             NaN   \n",
       "4831              31.0           NaN    16.05.2018             NaN   \n",
       "4832              30.0           NaN           NaN             NaN   \n",
       "4833               9.6           NaN           NaN             NaN   \n",
       "\n",
       "      NpdidLicence  cmpNpdidCompany LicenseeDateUpdated DatesyncNPD  \n",
       "4829         21252         35318843          18.11.2019  02.01.2020  \n",
       "4830         21252         33360957          18.11.2019  02.01.2020  \n",
       "4831         21252         32011216          18.11.2019  02.01.2020  \n",
       "4832         21252          1626839          18.11.2019  02.01.2020  \n",
       "4833         21252              441          18.11.2019  02.01.2020  "
      ]
     },
     "execution_count": 175,
     "metadata": {},
     "output_type": "execute_result"
    }
   ],
   "source": [
    "license.query(\"prlName == '057'\").head()"
   ]
  },
  {
   "cell_type": "markdown",
   "metadata": {},
   "source": [
    "This indicates that the merge is affected by the space after `057 ` from the `wlbProductionLicence` column. We clean both columns by removiing leading/ trailing spaces and ensuring the same format"
   ]
  },
  {
   "cell_type": "code",
   "execution_count": 189,
   "metadata": {},
   "outputs": [],
   "source": [
    "exploration['wlbProductionLicence'] = exploration['wlbProductionLicence'].str.strip()\n",
    "license['prlName'] = license['prlName'].str.strip()\n",
    "\n",
    "# ensure both columns are strings \n",
    "exploration['wlbProductionLicence'] = exploration['wlbProductionLicence'].astype(str)\n",
    "license['prlName'] = license['prlName'].astype(str)"
   ]
  },
  {
   "cell_type": "code",
   "execution_count": 190,
   "metadata": {},
   "outputs": [
    {
     "data": {
      "text/html": [
       "<div>\n",
       "<style scoped>\n",
       "    .dataframe tbody tr th:only-of-type {\n",
       "        vertical-align: middle;\n",
       "    }\n",
       "\n",
       "    .dataframe tbody tr th {\n",
       "        vertical-align: top;\n",
       "    }\n",
       "\n",
       "    .dataframe thead th {\n",
       "        text-align: right;\n",
       "    }\n",
       "</style>\n",
       "<table border=\"1\" class=\"dataframe\">\n",
       "  <thead>\n",
       "    <tr style=\"text-align: right;\">\n",
       "      <th></th>\n",
       "      <th>index</th>\n",
       "      <th>wlbProductionLicence</th>\n",
       "      <th>prlName</th>\n",
       "    </tr>\n",
       "  </thead>\n",
       "  <tbody>\n",
       "    <tr>\n",
       "      <th>0</th>\n",
       "      <td>0</td>\n",
       "      <td>036 C</td>\n",
       "      <td>036 C</td>\n",
       "    </tr>\n",
       "    <tr>\n",
       "      <th>1</th>\n",
       "      <td>1</td>\n",
       "      <td>036 C</td>\n",
       "      <td>036 C</td>\n",
       "    </tr>\n",
       "    <tr>\n",
       "      <th>2</th>\n",
       "      <td>2</td>\n",
       "      <td>036 C</td>\n",
       "      <td>036 C</td>\n",
       "    </tr>\n",
       "    <tr>\n",
       "      <th>3</th>\n",
       "      <td>3</td>\n",
       "      <td>036 C</td>\n",
       "      <td>036 C</td>\n",
       "    </tr>\n",
       "    <tr>\n",
       "      <th>4</th>\n",
       "      <td>4</td>\n",
       "      <td>036 C</td>\n",
       "      <td>036 C</td>\n",
       "    </tr>\n",
       "    <tr>\n",
       "      <th>...</th>\n",
       "      <td>...</td>\n",
       "      <td>...</td>\n",
       "      <td>...</td>\n",
       "    </tr>\n",
       "    <tr>\n",
       "      <th>15706</th>\n",
       "      <td>15706</td>\n",
       "      <td>375</td>\n",
       "      <td>375</td>\n",
       "    </tr>\n",
       "    <tr>\n",
       "      <th>15707</th>\n",
       "      <td>15707</td>\n",
       "      <td>375</td>\n",
       "      <td>375</td>\n",
       "    </tr>\n",
       "    <tr>\n",
       "      <th>15708</th>\n",
       "      <td>15708</td>\n",
       "      <td>375</td>\n",
       "      <td>375</td>\n",
       "    </tr>\n",
       "    <tr>\n",
       "      <th>15709</th>\n",
       "      <td>15709</td>\n",
       "      <td>375</td>\n",
       "      <td>375</td>\n",
       "    </tr>\n",
       "    <tr>\n",
       "      <th>15710</th>\n",
       "      <td>15710</td>\n",
       "      <td>375</td>\n",
       "      <td>375</td>\n",
       "    </tr>\n",
       "  </tbody>\n",
       "</table>\n",
       "<p>15711 rows × 3 columns</p>\n",
       "</div>"
      ],
      "text/plain": [
       "       index wlbProductionLicence prlName\n",
       "0          0                036 C   036 C\n",
       "1          1                036 C   036 C\n",
       "2          2                036 C   036 C\n",
       "3          3                036 C   036 C\n",
       "4          4                036 C   036 C\n",
       "...      ...                  ...     ...\n",
       "15706  15706                  375     375\n",
       "15707  15707                  375     375\n",
       "15708  15708                  375     375\n",
       "15709  15709                  375     375\n",
       "15710  15710                  375     375\n",
       "\n",
       "[15711 rows x 3 columns]"
      ]
     },
     "execution_count": 190,
     "metadata": {},
     "output_type": "execute_result"
    }
   ],
   "source": [
    "# test the left merge once again on the columns only to see if the matching produces any more NaN values\n",
    "z = pd.DataFrame(exploration['wlbProductionLicence']).merge(pd.DataFrame(license['prlName']), how='left', left_on='wlbProductionLicence', right_on='prlName')\n",
    "z = pd.DataFrame(z)\n",
    "z = z.reset_index()\n",
    "z"
   ]
  },
  {
   "cell_type": "code",
   "execution_count": 288,
   "metadata": {},
   "outputs": [
    {
     "data": {
      "text/html": [
       "<div>\n",
       "<style scoped>\n",
       "    .dataframe tbody tr th:only-of-type {\n",
       "        vertical-align: middle;\n",
       "    }\n",
       "\n",
       "    .dataframe tbody tr th {\n",
       "        vertical-align: top;\n",
       "    }\n",
       "\n",
       "    .dataframe thead th {\n",
       "        text-align: right;\n",
       "    }\n",
       "</style>\n",
       "<table border=\"1\" class=\"dataframe\">\n",
       "  <thead>\n",
       "    <tr style=\"text-align: right;\">\n",
       "      <th></th>\n",
       "      <th>prlName</th>\n",
       "      <th>ValidFrom</th>\n",
       "      <th>ValidTo</th>\n",
       "      <th>LongName</th>\n",
       "      <th>licenseeInterest</th>\n",
       "      <th>licenseeSdfi</th>\n",
       "      <th>operValidFrom</th>\n",
       "      <th>operDateValidTo</th>\n",
       "      <th>NpdidLicence</th>\n",
       "      <th>cmpNpdidCompany</th>\n",
       "      <th>LicenseeDateUpdated</th>\n",
       "      <th>DatesyncNPD</th>\n",
       "    </tr>\n",
       "  </thead>\n",
       "  <tbody>\n",
       "    <tr>\n",
       "      <th>0</th>\n",
       "      <td>001</td>\n",
       "      <td>2019-08-01</td>\n",
       "      <td>2020-01-01</td>\n",
       "      <td>Mime Petroleum AS</td>\n",
       "      <td>10.0</td>\n",
       "      <td>NaN</td>\n",
       "      <td>NaN</td>\n",
       "      <td>NaN</td>\n",
       "      <td>20756</td>\n",
       "      <td>29491564</td>\n",
       "      <td>02.10.2019</td>\n",
       "      <td>02.01.2020</td>\n",
       "    </tr>\n",
       "    <tr>\n",
       "      <th>1</th>\n",
       "      <td>001</td>\n",
       "      <td>2019-08-01</td>\n",
       "      <td>2020-01-01</td>\n",
       "      <td>Vår Energi AS</td>\n",
       "      <td>90.0</td>\n",
       "      <td>NaN</td>\n",
       "      <td>10.12.2018</td>\n",
       "      <td>NaN</td>\n",
       "      <td>20756</td>\n",
       "      <td>33360957</td>\n",
       "      <td>02.10.2019</td>\n",
       "      <td>02.01.2020</td>\n",
       "    </tr>\n",
       "    <tr>\n",
       "      <th>2</th>\n",
       "      <td>001</td>\n",
       "      <td>2018-12-10</td>\n",
       "      <td>2019-08-01</td>\n",
       "      <td>Vår Energi AS</td>\n",
       "      <td>100.0</td>\n",
       "      <td>NaN</td>\n",
       "      <td>10.12.2018</td>\n",
       "      <td>NaN</td>\n",
       "      <td>20756</td>\n",
       "      <td>33360957</td>\n",
       "      <td>02.10.2019</td>\n",
       "      <td>02.01.2020</td>\n",
       "    </tr>\n",
       "    <tr>\n",
       "      <th>3</th>\n",
       "      <td>001</td>\n",
       "      <td>2017-11-01</td>\n",
       "      <td>2018-12-10</td>\n",
       "      <td>Point Resources AS</td>\n",
       "      <td>100.0</td>\n",
       "      <td>NaN</td>\n",
       "      <td>01.11.2017</td>\n",
       "      <td>09.12.2018</td>\n",
       "      <td>20756</td>\n",
       "      <td>28183464</td>\n",
       "      <td>02.10.2019</td>\n",
       "      <td>02.01.2020</td>\n",
       "    </tr>\n",
       "    <tr>\n",
       "      <th>4</th>\n",
       "      <td>001</td>\n",
       "      <td>2004-10-01</td>\n",
       "      <td>2017-11-01</td>\n",
       "      <td>ExxonMobil Exploration and Production Norway AS</td>\n",
       "      <td>100.0</td>\n",
       "      <td>NaN</td>\n",
       "      <td>01.10.2004</td>\n",
       "      <td>31.10.2017</td>\n",
       "      <td>20756</td>\n",
       "      <td>2835212</td>\n",
       "      <td>02.10.2019</td>\n",
       "      <td>02.01.2020</td>\n",
       "    </tr>\n",
       "  </tbody>\n",
       "</table>\n",
       "</div>"
      ],
      "text/plain": [
       "  prlName  ValidFrom    ValidTo  \\\n",
       "0     001 2019-08-01 2020-01-01   \n",
       "1     001 2019-08-01 2020-01-01   \n",
       "2     001 2018-12-10 2019-08-01   \n",
       "3     001 2017-11-01 2018-12-10   \n",
       "4     001 2004-10-01 2017-11-01   \n",
       "\n",
       "                                          LongName  licenseeInterest  \\\n",
       "0                                Mime Petroleum AS              10.0   \n",
       "1                                    Vår Energi AS              90.0   \n",
       "2                                    Vår Energi AS             100.0   \n",
       "3                               Point Resources AS             100.0   \n",
       "4  ExxonMobil Exploration and Production Norway AS             100.0   \n",
       "\n",
       "   licenseeSdfi operValidFrom operDateValidTo  NpdidLicence  cmpNpdidCompany  \\\n",
       "0           NaN           NaN             NaN         20756         29491564   \n",
       "1           NaN    10.12.2018             NaN         20756         33360957   \n",
       "2           NaN    10.12.2018             NaN         20756         33360957   \n",
       "3           NaN    01.11.2017      09.12.2018         20756         28183464   \n",
       "4           NaN    01.10.2004      31.10.2017         20756          2835212   \n",
       "\n",
       "  LicenseeDateUpdated DatesyncNPD  \n",
       "0          02.10.2019  02.01.2020  \n",
       "1          02.10.2019  02.01.2020  \n",
       "2          02.10.2019  02.01.2020  \n",
       "3          02.10.2019  02.01.2020  \n",
       "4          02.10.2019  02.01.2020  "
      ]
     },
     "execution_count": 288,
     "metadata": {},
     "output_type": "execute_result"
    }
   ],
   "source": [
    "license.head()"
   ]
  },
  {
   "cell_type": "code",
   "execution_count": 191,
   "metadata": {},
   "outputs": [
    {
     "data": {
      "text/plain": [
       "index                   0\n",
       "wlbProductionLicence    0\n",
       "prlName                 0\n",
       "dtype: int64"
      ]
     },
     "execution_count": 191,
     "metadata": {},
     "output_type": "execute_result"
    }
   ],
   "source": [
    "z.isna().sum()"
   ]
  },
  {
   "cell_type": "markdown",
   "metadata": {},
   "source": [
    "There are now zero `NaN` values from merging the two columns under consideration. We can therefore merge the entire DataFrames now."
   ]
  },
  {
   "cell_type": "markdown",
   "metadata": {},
   "source": [
    "1. We match the exploration and license data using a left join based on the production license (`wlbProductionLicence` and `prlName`)"
   ]
  },
  {
   "cell_type": "code",
   "execution_count": 192,
   "metadata": {},
   "outputs": [],
   "source": [
    "expl_lic = exploration.merge(license, how='left', left_on='wlbProductionLicence', right_on='prlName')"
   ]
  },
  {
   "cell_type": "markdown",
   "metadata": {},
   "source": [
    "2. `validFrom` <= `wlbEntryDate` <= `ValidTo`"
   ]
  },
  {
   "cell_type": "code",
   "execution_count": 193,
   "metadata": {},
   "outputs": [],
   "source": [
    "expl_lic_filtered = expl_lic[(expl_lic['wlbEntryDate'] >= expl_lic['ValidFrom']) & (expl_lic['wlbEntryDate'] <= expl_lic['ValidTo'])]"
   ]
  },
  {
   "cell_type": "markdown",
   "metadata": {},
   "source": [
    "3. inspect the left merged dataset"
   ]
  },
  {
   "cell_type": "code",
   "execution_count": 197,
   "metadata": {},
   "outputs": [
    {
     "data": {
      "text/html": [
       "<div>\n",
       "<style scoped>\n",
       "    .dataframe tbody tr th:only-of-type {\n",
       "        vertical-align: middle;\n",
       "    }\n",
       "\n",
       "    .dataframe tbody tr th {\n",
       "        vertical-align: top;\n",
       "    }\n",
       "\n",
       "    .dataframe thead th {\n",
       "        text-align: right;\n",
       "    }\n",
       "</style>\n",
       "<table border=\"1\" class=\"dataframe\">\n",
       "  <thead>\n",
       "    <tr style=\"text-align: right;\">\n",
       "      <th></th>\n",
       "      <th>wlbWellboreName</th>\n",
       "      <th>wlbEntryDate</th>\n",
       "      <th>wlbCompletionDate</th>\n",
       "      <th>wlbDrillingOperator</th>\n",
       "      <th>wlbProductionLicence</th>\n",
       "      <th>wlbPurpose</th>\n",
       "      <th>wlbContent</th>\n",
       "      <th>wlbReentry</th>\n",
       "      <th>wlbStatus</th>\n",
       "      <th>wlbAgeAtTd</th>\n",
       "      <th>...</th>\n",
       "      <th>ValidTo</th>\n",
       "      <th>LongName</th>\n",
       "      <th>licenseeInterest</th>\n",
       "      <th>licenseeSdfi</th>\n",
       "      <th>operValidFrom</th>\n",
       "      <th>operDateValidTo</th>\n",
       "      <th>NpdidLicence</th>\n",
       "      <th>cmpNpdidCompany</th>\n",
       "      <th>LicenseeDateUpdated</th>\n",
       "      <th>DatesyncNPD</th>\n",
       "    </tr>\n",
       "  </thead>\n",
       "  <tbody>\n",
       "    <tr>\n",
       "      <th>0</th>\n",
       "      <td>25/4-14 B</td>\n",
       "      <td>2019-09-17</td>\n",
       "      <td>NaT</td>\n",
       "      <td>Aker BP ASA</td>\n",
       "      <td>036 C</td>\n",
       "      <td>APPRAISAL</td>\n",
       "      <td>NaN</td>\n",
       "      <td>NO</td>\n",
       "      <td>DRILLING</td>\n",
       "      <td></td>\n",
       "      <td>...</td>\n",
       "      <td>2020-01-01</td>\n",
       "      <td>Aker BP ASA</td>\n",
       "      <td>65.0</td>\n",
       "      <td>NaN</td>\n",
       "      <td>30.09.2016</td>\n",
       "      <td>NaN</td>\n",
       "      <td>2473241</td>\n",
       "      <td>28544099</td>\n",
       "      <td>02.10.2019</td>\n",
       "      <td>02.01.2020</td>\n",
       "    </tr>\n",
       "    <tr>\n",
       "      <th>1</th>\n",
       "      <td>25/4-14 B</td>\n",
       "      <td>2019-09-17</td>\n",
       "      <td>NaT</td>\n",
       "      <td>Aker BP ASA</td>\n",
       "      <td>036 C</td>\n",
       "      <td>APPRAISAL</td>\n",
       "      <td>NaN</td>\n",
       "      <td>NO</td>\n",
       "      <td>DRILLING</td>\n",
       "      <td></td>\n",
       "      <td>...</td>\n",
       "      <td>2020-01-01</td>\n",
       "      <td>ConocoPhillips Skandinavia AS</td>\n",
       "      <td>20.0</td>\n",
       "      <td>NaN</td>\n",
       "      <td>NaN</td>\n",
       "      <td>NaN</td>\n",
       "      <td>2473241</td>\n",
       "      <td>2410696</td>\n",
       "      <td>02.10.2019</td>\n",
       "      <td>02.01.2020</td>\n",
       "    </tr>\n",
       "    <tr>\n",
       "      <th>2</th>\n",
       "      <td>25/4-14 B</td>\n",
       "      <td>2019-09-17</td>\n",
       "      <td>NaT</td>\n",
       "      <td>Aker BP ASA</td>\n",
       "      <td>036 C</td>\n",
       "      <td>APPRAISAL</td>\n",
       "      <td>NaN</td>\n",
       "      <td>NO</td>\n",
       "      <td>DRILLING</td>\n",
       "      <td></td>\n",
       "      <td>...</td>\n",
       "      <td>2020-01-01</td>\n",
       "      <td>Lundin Norway AS</td>\n",
       "      <td>15.0</td>\n",
       "      <td>NaN</td>\n",
       "      <td>NaN</td>\n",
       "      <td>NaN</td>\n",
       "      <td>2473241</td>\n",
       "      <td>2767314</td>\n",
       "      <td>02.10.2019</td>\n",
       "      <td>02.01.2020</td>\n",
       "    </tr>\n",
       "    <tr>\n",
       "      <th>25</th>\n",
       "      <td>25/4-14 A</td>\n",
       "      <td>2019-09-10</td>\n",
       "      <td>2019-09-16</td>\n",
       "      <td>Aker BP ASA</td>\n",
       "      <td>036 C</td>\n",
       "      <td>APPRAISAL</td>\n",
       "      <td>NaN</td>\n",
       "      <td>NO</td>\n",
       "      <td>PLUGGED</td>\n",
       "      <td></td>\n",
       "      <td>...</td>\n",
       "      <td>2020-01-01</td>\n",
       "      <td>Aker BP ASA</td>\n",
       "      <td>65.0</td>\n",
       "      <td>NaN</td>\n",
       "      <td>30.09.2016</td>\n",
       "      <td>NaN</td>\n",
       "      <td>2473241</td>\n",
       "      <td>28544099</td>\n",
       "      <td>02.10.2019</td>\n",
       "      <td>02.01.2020</td>\n",
       "    </tr>\n",
       "    <tr>\n",
       "      <th>26</th>\n",
       "      <td>25/4-14 A</td>\n",
       "      <td>2019-09-10</td>\n",
       "      <td>2019-09-16</td>\n",
       "      <td>Aker BP ASA</td>\n",
       "      <td>036 C</td>\n",
       "      <td>APPRAISAL</td>\n",
       "      <td>NaN</td>\n",
       "      <td>NO</td>\n",
       "      <td>PLUGGED</td>\n",
       "      <td></td>\n",
       "      <td>...</td>\n",
       "      <td>2020-01-01</td>\n",
       "      <td>ConocoPhillips Skandinavia AS</td>\n",
       "      <td>20.0</td>\n",
       "      <td>NaN</td>\n",
       "      <td>NaN</td>\n",
       "      <td>NaN</td>\n",
       "      <td>2473241</td>\n",
       "      <td>2410696</td>\n",
       "      <td>02.10.2019</td>\n",
       "      <td>02.01.2020</td>\n",
       "    </tr>\n",
       "  </tbody>\n",
       "</table>\n",
       "<p>5 rows × 25 columns</p>\n",
       "</div>"
      ],
      "text/plain": [
       "   wlbWellboreName wlbEntryDate wlbCompletionDate wlbDrillingOperator  \\\n",
       "0        25/4-14 B   2019-09-17               NaT         Aker BP ASA   \n",
       "1        25/4-14 B   2019-09-17               NaT         Aker BP ASA   \n",
       "2        25/4-14 B   2019-09-17               NaT         Aker BP ASA   \n",
       "25       25/4-14 A   2019-09-10        2019-09-16         Aker BP ASA   \n",
       "26       25/4-14 A   2019-09-10        2019-09-16         Aker BP ASA   \n",
       "\n",
       "   wlbProductionLicence wlbPurpose wlbContent wlbReentry wlbStatus  \\\n",
       "0                 036 C  APPRAISAL        NaN         NO  DRILLING   \n",
       "1                 036 C  APPRAISAL        NaN         NO  DRILLING   \n",
       "2                 036 C  APPRAISAL        NaN         NO  DRILLING   \n",
       "25                036 C  APPRAISAL        NaN         NO   PLUGGED   \n",
       "26                036 C  APPRAISAL        NaN         NO   PLUGGED   \n",
       "\n",
       "              wlbAgeAtTd  ...    ValidTo                       LongName  \\\n",
       "0                         ... 2020-01-01                    Aker BP ASA   \n",
       "1                         ... 2020-01-01  ConocoPhillips Skandinavia AS   \n",
       "2                         ... 2020-01-01               Lundin Norway AS   \n",
       "25                        ... 2020-01-01                    Aker BP ASA   \n",
       "26                        ... 2020-01-01  ConocoPhillips Skandinavia AS   \n",
       "\n",
       "    licenseeInterest licenseeSdfi operValidFrom operDateValidTo NpdidLicence  \\\n",
       "0               65.0          NaN    30.09.2016             NaN      2473241   \n",
       "1               20.0          NaN           NaN             NaN      2473241   \n",
       "2               15.0          NaN           NaN             NaN      2473241   \n",
       "25              65.0          NaN    30.09.2016             NaN      2473241   \n",
       "26              20.0          NaN           NaN             NaN      2473241   \n",
       "\n",
       "    cmpNpdidCompany  LicenseeDateUpdated DatesyncNPD  \n",
       "0          28544099           02.10.2019  02.01.2020  \n",
       "1           2410696           02.10.2019  02.01.2020  \n",
       "2           2767314           02.10.2019  02.01.2020  \n",
       "25         28544099           02.10.2019  02.01.2020  \n",
       "26          2410696           02.10.2019  02.01.2020  \n",
       "\n",
       "[5 rows x 25 columns]"
      ]
     },
     "execution_count": 197,
     "metadata": {},
     "output_type": "execute_result"
    }
   ],
   "source": [
    "expl_lic_filtered.head()"
   ]
  },
  {
   "cell_type": "markdown",
   "metadata": {},
   "source": [
    "We see that the same `wlbProductionLicence` shares multiple `LongName` company names. According to Johannes Mauritzen, this is caused by shared ownership. In other words, each well-bore has mutliple shared owners (detailed in `LongName`), but a single drilling operator (`wlbDrillingOperator`). We verify the existence of a single operator per drilling well by checking duplicates."
   ]
  },
  {
   "cell_type": "markdown",
   "metadata": {},
   "source": [
    "5. Group by `wlbProductionLicence` "
   ]
  },
  {
   "cell_type": "code",
   "execution_count": 209,
   "metadata": {},
   "outputs": [
    {
     "data": {
      "text/plain": [
       "wlbProductionLicence  wlbDrillingOperator             \n",
       "120                   Equinor Energy AS                    8\n",
       "                      Statoil Petroleum AS                12\n",
       "159 B                 Equinor Energy AS                    5\n",
       "                      Statoil Petroleum AS                 4\n",
       "167                   Equinor Energy AS                    6\n",
       "                      Statoil Petroleum AS                 2\n",
       "212                   Aker BP ASA                          4\n",
       "                      BP Norge AS                          4\n",
       "248 C                 Equinor Energy AS                    3\n",
       "                      Statoil Petroleum AS                 2\n",
       "373 S                 A/S Norske Shell                     4\n",
       "                      BG Norge AS                         20\n",
       "375                   Petro-Canada Norge AS                5\n",
       "                      Suncor Energy Norge AS               2\n",
       "378                   Wintershall Norge AS                 4\n",
       "                      Wintershall Norge ASA                9\n",
       "405                   Centrica Resources (Norge) AS       24\n",
       "                      Spirit Energy Norway AS              8\n",
       "408                   Det norske oljeselskap ASA           1\n",
       "                      Det norske oljeselskap ASA (old)     1\n",
       "418                   Wintershall Norge AS                15\n",
       "                      Wintershall Norge ASA                5\n",
       "433                   Centrica Resources (Norge) AS        5\n",
       "                      Spirit Energy Norge AS               6\n",
       "442                   Aker BP ASA                         12\n",
       "                      Det norske oljeselskap ASA           4\n",
       "457                   Wintershall Norge AS                12\n",
       "                      Wintershall Norge ASA                4\n",
       "502                   Equinor Energy AS                    3\n",
       "                      Statoil Petroleum AS                 3\n",
       "532                   Equinor Energy AS                    3\n",
       "                      Statoil Petroleum AS                24\n",
       "533                   Eni Norge AS                         4\n",
       "                      Lundin Norway AS                    15\n",
       "539                   MOL Norge AS                         2\n",
       "                      Premier Oil Norge AS                 5\n",
       "615                   Equinor Energy AS                    3\n",
       "                      Statoil Petroleum AS                 8\n",
       "659                   Aker BP ASA                          3\n",
       "                      Det norske oljeselskap ASA           6\n",
       "855                   Equinor Energy AS                    3\n",
       "                      Statoil Petroleum AS                 3\n",
       "859                   Equinor Energy AS                    5\n",
       "                      Statoil Petroleum AS                 5\n",
       "dtype: int64"
      ]
     },
     "execution_count": 209,
     "metadata": {},
     "output_type": "execute_result"
    }
   ],
   "source": [
    "# count unique drilling operators per production license\n",
    "drilling_operator_counts = expl_lic_filtered.groupby('wlbProductionLicence')['wlbDrillingOperator'].nunique().reset_index()\n",
    "multiple_operators_licenses = drilling_operator_counts[drilling_operator_counts['wlbDrillingOperator'] > 1]\n",
    "\n",
    "filtered_multiple_operators = expl_lic_filtered[expl_lic_filtered['wlbProductionLicence'].isin(multiple_operators_licenses['wlbProductionLicence'])]\n",
    "\n",
    "# count how many times each drilling operators appears per multiple_license\n",
    "operator_value_counts = filtered_multiple_operators.groupby(['wlbProductionLicence', 'wlbDrillingOperator']).size()\n",
    "\n",
    "# Display the operator counts to see which production licences have more than one operator\n",
    "operator_value_counts"
   ]
  },
  {
   "cell_type": "markdown",
   "metadata": {},
   "source": [
    "For example, in this DataFrame, we see that Equinor has drilled 8 wells on license `120` and Statoil has drilled 12 wells on the same license."
   ]
  },
  {
   "cell_type": "markdown",
   "metadata": {},
   "source": [
    "6. To simplify things, select rows where the License Owner is the same as the Drilling Operator"
   ]
  },
  {
   "cell_type": "code",
   "execution_count": 294,
   "metadata": {},
   "outputs": [],
   "source": [
    "expl_oper = expl_lic_filtered[expl_lic_filtered['wlbDrillingOperator']==expl_lic_filtered['LongName']].reset_index()"
   ]
  },
  {
   "cell_type": "code",
   "execution_count": 296,
   "metadata": {},
   "outputs": [
    {
     "name": "stdout",
     "output_type": "stream",
     "text": [
      "0                          Aker BP ASA\n",
      "1        ConocoPhillips Skandinavia AS\n",
      "2                     Lundin Norway AS\n",
      "3           Det norske oljeselskap ASA\n",
      "4        ConocoPhillips Skandinavia AS\n",
      "                     ...              \n",
      "15706                 Revus Energy ASA\n",
      "15707             Premier Oil Norge AS\n",
      "15708                 Revus Energy ASA\n",
      "15709             Premier Oil Norge AS\n",
      "15710          Petro-Canada UK Limited\n",
      "Name: LongName, Length: 15711, dtype: object\n",
      "0                           Aker BP ASA\n",
      "1                           Aker BP ASA\n",
      "2                     Equinor Energy AS\n",
      "3                           Aker BP ASA\n",
      "4              PGNiG Upstream Norway AS\n",
      "                     ...               \n",
      "483                Statoil Petroleum AS\n",
      "484                         BG Norge AS\n",
      "485                    Lundin Norway AS\n",
      "486    Det norske oljeselskap ASA (old)\n",
      "487               Petro-Canada Norge AS\n",
      "Name: LongName, Length: 488, dtype: object\n"
     ]
    }
   ],
   "source": [
    "print(expl_lic['LongName'])\n",
    "print(expl_oper['LongName'])\n"
   ]
  },
  {
   "cell_type": "markdown",
   "metadata": {},
   "source": [
    "By doing this operation where only drilling operators are also the license owner of that well, we drop almost all of the rows."
   ]
  },
  {
   "cell_type": "markdown",
   "metadata": {},
   "source": [
    "7. Change the column title for NPD ID column, to match that of `AS_data`"
   ]
  },
  {
   "cell_type": "code",
   "execution_count": 214,
   "metadata": {},
   "outputs": [],
   "source": [
    "expl_oper = expl_oper.rename(columns={'cmpNpdidCompany':'NPD_id'})"
   ]
  },
  {
   "cell_type": "markdown",
   "metadata": {},
   "source": [
    "8. Match exploration and financial data and join"
   ]
  },
  {
   "cell_type": "code",
   "execution_count": 239,
   "metadata": {},
   "outputs": [],
   "source": [
    "expl_AS = pd.merge(expl_oper, AS_merged, how='left', on=['NPD_id', 'year'])"
   ]
  },
  {
   "cell_type": "markdown",
   "metadata": {},
   "source": [
    "There are duplicates in `expl_AS` but do not remove them yet as they may be to various wells operated by the same company. We can have multiple observations for the same company in the same year. Instead, we are interested in the company as the unit of measurement."
   ]
  },
  {
   "cell_type": "markdown",
   "metadata": {},
   "source": [
    "Aggregating the exploration data to the company-year level. \n",
    "\n",
    "Calculating the number of exploration wells per company per year by counting the number of `wlbWellboreName`"
   ]
  },
  {
   "cell_type": "code",
   "execution_count": 248,
   "metadata": {},
   "outputs": [],
   "source": [
    "compWells = expl_oper.groupby(['NPD_id','year'])['wlbWellboreName'].count().reset_index(name='numbWells')"
   ]
  },
  {
   "cell_type": "code",
   "execution_count": 255,
   "metadata": {},
   "outputs": [
    {
     "data": {
      "text/html": [
       "<div>\n",
       "<style scoped>\n",
       "    .dataframe tbody tr th:only-of-type {\n",
       "        vertical-align: middle;\n",
       "    }\n",
       "\n",
       "    .dataframe tbody tr th {\n",
       "        vertical-align: top;\n",
       "    }\n",
       "\n",
       "    .dataframe thead th {\n",
       "        text-align: right;\n",
       "    }\n",
       "</style>\n",
       "<table border=\"1\" class=\"dataframe\">\n",
       "  <thead>\n",
       "    <tr style=\"text-align: right;\">\n",
       "      <th></th>\n",
       "      <th>NPD_id</th>\n",
       "      <th>year</th>\n",
       "      <th>numbWells</th>\n",
       "    </tr>\n",
       "  </thead>\n",
       "  <tbody>\n",
       "    <tr>\n",
       "      <th>34</th>\n",
       "      <td>2747354</td>\n",
       "      <td>2009</td>\n",
       "      <td>1</td>\n",
       "    </tr>\n",
       "    <tr>\n",
       "      <th>39</th>\n",
       "      <td>2767314</td>\n",
       "      <td>2009</td>\n",
       "      <td>9</td>\n",
       "    </tr>\n",
       "    <tr>\n",
       "      <th>54</th>\n",
       "      <td>3960945</td>\n",
       "      <td>2009</td>\n",
       "      <td>6</td>\n",
       "    </tr>\n",
       "    <tr>\n",
       "      <th>80</th>\n",
       "      <td>4539989</td>\n",
       "      <td>2009</td>\n",
       "      <td>2</td>\n",
       "    </tr>\n",
       "    <tr>\n",
       "      <th>95</th>\n",
       "      <td>17237817</td>\n",
       "      <td>2009</td>\n",
       "      <td>4</td>\n",
       "    </tr>\n",
       "    <tr>\n",
       "      <th>...</th>\n",
       "      <td>...</td>\n",
       "      <td>...</td>\n",
       "      <td>...</td>\n",
       "    </tr>\n",
       "    <tr>\n",
       "      <th>133</th>\n",
       "      <td>26464257</td>\n",
       "      <td>2019</td>\n",
       "      <td>5</td>\n",
       "    </tr>\n",
       "    <tr>\n",
       "      <th>135</th>\n",
       "      <td>26464449</td>\n",
       "      <td>2019</td>\n",
       "      <td>14</td>\n",
       "    </tr>\n",
       "    <tr>\n",
       "      <th>141</th>\n",
       "      <td>28544099</td>\n",
       "      <td>2019</td>\n",
       "      <td>42</td>\n",
       "    </tr>\n",
       "    <tr>\n",
       "      <th>142</th>\n",
       "      <td>29394105</td>\n",
       "      <td>2019</td>\n",
       "      <td>2</td>\n",
       "    </tr>\n",
       "    <tr>\n",
       "      <th>146</th>\n",
       "      <td>32011216</td>\n",
       "      <td>2019</td>\n",
       "      <td>29</td>\n",
       "    </tr>\n",
       "  </tbody>\n",
       "</table>\n",
       "<p>148 rows × 3 columns</p>\n",
       "</div>"
      ],
      "text/plain": [
       "       NPD_id  year  numbWells\n",
       "34    2747354  2009          1\n",
       "39    2767314  2009          9\n",
       "54    3960945  2009          6\n",
       "80    4539989  2009          2\n",
       "95   17237817  2009          4\n",
       "..        ...   ...        ...\n",
       "133  26464257  2019          5\n",
       "135  26464449  2019         14\n",
       "141  28544099  2019         42\n",
       "142  29394105  2019          2\n",
       "146  32011216  2019         29\n",
       "\n",
       "[148 rows x 3 columns]"
      ]
     },
     "execution_count": 255,
     "metadata": {},
     "output_type": "execute_result"
    }
   ],
   "source": [
    "compWells.sort_values(by=['year', 'NPD_id'])"
   ]
  },
  {
   "cell_type": "code",
   "execution_count": 250,
   "metadata": {},
   "outputs": [
    {
     "data": {
      "text/html": [
       "<div>\n",
       "<style scoped>\n",
       "    .dataframe tbody tr th:only-of-type {\n",
       "        vertical-align: middle;\n",
       "    }\n",
       "\n",
       "    .dataframe tbody tr th {\n",
       "        vertical-align: top;\n",
       "    }\n",
       "\n",
       "    .dataframe thead th {\n",
       "        text-align: right;\n",
       "    }\n",
       "</style>\n",
       "<table border=\"1\" class=\"dataframe\">\n",
       "  <thead>\n",
       "    <tr style=\"text-align: right;\">\n",
       "      <th></th>\n",
       "      <th>NPD_id</th>\n",
       "      <th>year</th>\n",
       "      <th>numbWells</th>\n",
       "    </tr>\n",
       "  </thead>\n",
       "  <tbody>\n",
       "    <tr>\n",
       "      <th>0</th>\n",
       "      <td>441</td>\n",
       "      <td>2011</td>\n",
       "      <td>5</td>\n",
       "    </tr>\n",
       "    <tr>\n",
       "      <th>1</th>\n",
       "      <td>463</td>\n",
       "      <td>2011</td>\n",
       "      <td>6</td>\n",
       "    </tr>\n",
       "    <tr>\n",
       "      <th>2</th>\n",
       "      <td>562</td>\n",
       "      <td>2010</td>\n",
       "      <td>24</td>\n",
       "    </tr>\n",
       "    <tr>\n",
       "      <th>3</th>\n",
       "      <td>562</td>\n",
       "      <td>2013</td>\n",
       "      <td>9</td>\n",
       "    </tr>\n",
       "    <tr>\n",
       "      <th>4</th>\n",
       "      <td>562</td>\n",
       "      <td>2014</td>\n",
       "      <td>15</td>\n",
       "    </tr>\n",
       "    <tr>\n",
       "      <th>...</th>\n",
       "      <td>...</td>\n",
       "      <td>...</td>\n",
       "      <td>...</td>\n",
       "    </tr>\n",
       "    <tr>\n",
       "      <th>143</th>\n",
       "      <td>30382333</td>\n",
       "      <td>2017</td>\n",
       "      <td>1</td>\n",
       "    </tr>\n",
       "    <tr>\n",
       "      <th>144</th>\n",
       "      <td>30382333</td>\n",
       "      <td>2018</td>\n",
       "      <td>9</td>\n",
       "    </tr>\n",
       "    <tr>\n",
       "      <th>145</th>\n",
       "      <td>32011216</td>\n",
       "      <td>2018</td>\n",
       "      <td>21</td>\n",
       "    </tr>\n",
       "    <tr>\n",
       "      <th>146</th>\n",
       "      <td>32011216</td>\n",
       "      <td>2019</td>\n",
       "      <td>29</td>\n",
       "    </tr>\n",
       "    <tr>\n",
       "      <th>147</th>\n",
       "      <td>33342085</td>\n",
       "      <td>2018</td>\n",
       "      <td>2</td>\n",
       "    </tr>\n",
       "  </tbody>\n",
       "</table>\n",
       "<p>148 rows × 3 columns</p>\n",
       "</div>"
      ],
      "text/plain": [
       "       NPD_id  year  numbWells\n",
       "0         441  2011          5\n",
       "1         463  2011          6\n",
       "2         562  2010         24\n",
       "3         562  2013          9\n",
       "4         562  2014         15\n",
       "..        ...   ...        ...\n",
       "143  30382333  2017          1\n",
       "144  30382333  2018          9\n",
       "145  32011216  2018         21\n",
       "146  32011216  2019         29\n",
       "147  33342085  2018          2\n",
       "\n",
       "[148 rows x 3 columns]"
      ]
     },
     "execution_count": 250,
     "metadata": {},
     "output_type": "execute_result"
    }
   ],
   "source": [
    "compWells"
   ]
  },
  {
   "cell_type": "code",
   "execution_count": 324,
   "metadata": {},
   "outputs": [],
   "source": [
    "# expl_AS = pd.merge(expl_oper, AS_merged, how='left', on=['NPD_id', 'year'])\n",
    "explAgg_AS = pd.merge(compWells, AS_merged, how='left', on=['NPD_id', 'year'])"
   ]
  },
  {
   "cell_type": "markdown",
   "metadata": {},
   "source": [
    "### Analysis of exploration and company financials"
   ]
  },
  {
   "cell_type": "markdown",
   "metadata": {},
   "source": [
    "- *Hypothesis we'd like to test*: bigger firms (in total assets) will drill more wells"
   ]
  },
  {
   "cell_type": "code",
   "execution_count": 258,
   "metadata": {},
   "outputs": [
    {
     "data": {
      "image/png": "[encoded data removed]",
      "text/plain": [
       "<Figure size 640x480 with 1 Axes>"
      ]
     },
     "metadata": {},
     "output_type": "display_data"
    }
   ],
   "source": [
    "sns.regplot(\n",
    "    data=explAgg_AS,\n",
    "    x='total_assets',\n",
    "    y='numbWells',\n",
    "    scatter_kws={'s': 50}, \n",
    "    line_kws={'color': 'red'}\n",
    ")\n",
    "plt.xlabel('Total Assets')\n",
    "plt.ylabel('Number of Wells')\n",
    "plt.title('Relationship between Total Assets and Number of Wells')\n",
    "\n",
    "# Show the plot\n",
    "plt.show()"
   ]
  },
  {
   "cell_type": "markdown",
   "metadata": {},
   "source": [
    "There is correlation here but with a lot of variance around the regression line. In other words, some small companies drill a lot and some big companies drill little."
   ]
  },
  {
   "cell_type": "code",
   "execution_count": 263,
   "metadata": {},
   "outputs": [
    {
     "data": {
      "text/html": [
       "<div>\n",
       "<style scoped>\n",
       "    .dataframe tbody tr th:only-of-type {\n",
       "        vertical-align: middle;\n",
       "    }\n",
       "\n",
       "    .dataframe tbody tr th {\n",
       "        vertical-align: top;\n",
       "    }\n",
       "\n",
       "    .dataframe thead th {\n",
       "        text-align: right;\n",
       "    }\n",
       "</style>\n",
       "<table border=\"1\" class=\"dataframe\">\n",
       "  <thead>\n",
       "    <tr style=\"text-align: right;\">\n",
       "      <th></th>\n",
       "      <th>LongName</th>\n",
       "      <th>ShortName</th>\n",
       "    </tr>\n",
       "  </thead>\n",
       "  <tbody>\n",
       "    <tr>\n",
       "      <th>0</th>\n",
       "      <td>Idemitsu Petroleum Norge AS</td>\n",
       "      <td>IDEMITSU</td>\n",
       "    </tr>\n",
       "    <tr>\n",
       "      <th>1</th>\n",
       "      <td>Marathon Petroleum Norge AS</td>\n",
       "      <td>MARATHON N</td>\n",
       "    </tr>\n",
       "    <tr>\n",
       "      <th>2</th>\n",
       "      <td>A/S Norske Shell</td>\n",
       "      <td>SHELL NORGE</td>\n",
       "    </tr>\n",
       "    <tr>\n",
       "      <th>3</th>\n",
       "      <td>A/S Norske Shell</td>\n",
       "      <td>SHELL NORGE</td>\n",
       "    </tr>\n",
       "    <tr>\n",
       "      <th>4</th>\n",
       "      <td>A/S Norske Shell</td>\n",
       "      <td>SHELL NORGE</td>\n",
       "    </tr>\n",
       "    <tr>\n",
       "      <th>...</th>\n",
       "      <td>...</td>\n",
       "      <td>...</td>\n",
       "    </tr>\n",
       "    <tr>\n",
       "      <th>143</th>\n",
       "      <td>Spirit Energy Norge AS</td>\n",
       "      <td>SPIRIT ENERGY NORGE</td>\n",
       "    </tr>\n",
       "    <tr>\n",
       "      <th>144</th>\n",
       "      <td>Spirit Energy Norge AS</td>\n",
       "      <td>SPIRIT ENERGY NORGE</td>\n",
       "    </tr>\n",
       "    <tr>\n",
       "      <th>145</th>\n",
       "      <td>Equinor Energy AS</td>\n",
       "      <td>EQUINOR ENERGY AS</td>\n",
       "    </tr>\n",
       "    <tr>\n",
       "      <th>146</th>\n",
       "      <td>NaN</td>\n",
       "      <td>NaN</td>\n",
       "    </tr>\n",
       "    <tr>\n",
       "      <th>147</th>\n",
       "      <td>Spirit Energy Norway AS</td>\n",
       "      <td>SPIRIT ENERGY NORWAY AS</td>\n",
       "    </tr>\n",
       "  </tbody>\n",
       "</table>\n",
       "<p>148 rows × 2 columns</p>\n",
       "</div>"
      ],
      "text/plain": [
       "                        LongName                ShortName\n",
       "0    Idemitsu Petroleum Norge AS                 IDEMITSU\n",
       "1    Marathon Petroleum Norge AS               MARATHON N\n",
       "2               A/S Norske Shell              SHELL NORGE\n",
       "3               A/S Norske Shell              SHELL NORGE\n",
       "4               A/S Norske Shell              SHELL NORGE\n",
       "..                           ...                      ...\n",
       "143       Spirit Energy Norge AS      SPIRIT ENERGY NORGE\n",
       "144       Spirit Energy Norge AS      SPIRIT ENERGY NORGE\n",
       "145            Equinor Energy AS        EQUINOR ENERGY AS\n",
       "146                          NaN                      NaN\n",
       "147      Spirit Energy Norway AS  SPIRIT ENERGY NORWAY AS\n",
       "\n",
       "[148 rows x 2 columns]"
      ]
     },
     "execution_count": 263,
     "metadata": {},
     "output_type": "execute_result"
    }
   ],
   "source": [
    "explAgg_AS[['LongName', 'ShortName']]"
   ]
  },
  {
   "cell_type": "code",
   "execution_count": 265,
   "metadata": {},
   "outputs": [
    {
     "data": {
      "text/plain": [
       "numpy.int64"
      ]
     },
     "execution_count": 265,
     "metadata": {},
     "output_type": "execute_result"
    }
   ],
   "source": [
    "type(explAgg_AS['NPD_id'][0])"
   ]
  },
  {
   "cell_type": "code",
   "execution_count": 275,
   "metadata": {},
   "outputs": [
    {
     "data": {
      "image/png": "[encoded data removed]",
      "text/plain": [
       "<Figure size 640x480 with 1 Axes>"
      ]
     },
     "metadata": {},
     "output_type": "display_data"
    }
   ],
   "source": [
    "sns.scatterplot(\n",
    "    data=explAgg_AS,\n",
    "    x='total_assets',\n",
    "    y='numbWells',\n",
    "    hue='NPD_id',\n",
    "    legend=False\n",
    ")\n",
    "\n",
    "plt.xlabel('Total Assets')\n",
    "plt.ylabel('Number of Wells')\n",
    "plt.title('Relationship between Total Assets and Number of Wells, Colored by NPD_id')\n",
    "\n",
    "# Show the plot\n",
    "plt.show()"
   ]
  },
  {
   "cell_type": "markdown",
   "metadata": {},
   "source": [
    "All points with large total assets belong to the same company, where each dot represents a different year. Look up the company"
   ]
  },
  {
   "cell_type": "code",
   "execution_count": 284,
   "metadata": {},
   "outputs": [
    {
     "name": "stdout",
     "output_type": "stream",
     "text": [
      "145    64545000.0\n",
      "Name: total_assets, dtype: float64\n",
      "95     324624000.0\n",
      "96     349843000.0\n",
      "97     393945000.0\n",
      "98     429878000.0\n",
      "99     451515000.0\n",
      "100    479271000.0\n",
      "101    468429000.0\n",
      "102     51789000.0\n",
      "103     58153000.0\n",
      "104     64545000.0\n",
      "Name: total_assets, dtype: float64\n"
     ]
    }
   ],
   "source": [
    "print(explAgg_AS.query(\"LongName == 'Equinor Energy AS'\")['total_assets'])\n",
    "print(explAgg_AS.query(\"LongName == 'Statoil Petroleum AS'\")['total_assets'])"
   ]
  },
  {
   "cell_type": "markdown",
   "metadata": {},
   "source": [
    "Explore why there is only one data point for `Equinor` but many data points for `Statoil`... what got lost...?"
   ]
  },
  {
   "cell_type": "code",
   "execution_count": 277,
   "metadata": {},
   "outputs": [
    {
     "data": {
      "text/html": [
       "<div>\n",
       "<style scoped>\n",
       "    .dataframe tbody tr th:only-of-type {\n",
       "        vertical-align: middle;\n",
       "    }\n",
       "\n",
       "    .dataframe tbody tr th {\n",
       "        vertical-align: top;\n",
       "    }\n",
       "\n",
       "    .dataframe thead th {\n",
       "        text-align: right;\n",
       "    }\n",
       "</style>\n",
       "<table border=\"1\" class=\"dataframe\">\n",
       "  <thead>\n",
       "    <tr style=\"text-align: right;\">\n",
       "      <th></th>\n",
       "      <th>NPD_id</th>\n",
       "      <th>year</th>\n",
       "      <th>numbWells</th>\n",
       "      <th>Orgnr</th>\n",
       "      <th>LongName</th>\n",
       "      <th>ShortName</th>\n",
       "      <th>comp_id</th>\n",
       "      <th>status</th>\n",
       "      <th>employees</th>\n",
       "      <th>founded_date</th>\n",
       "      <th>...</th>\n",
       "      <th>inventory_capital</th>\n",
       "      <th>dividend</th>\n",
       "      <th>accounts_payable</th>\n",
       "      <th>rental_costs</th>\n",
       "      <th>wage_costs</th>\n",
       "      <th>total_operating_costs</th>\n",
       "      <th>total_current_assets</th>\n",
       "      <th>profit</th>\n",
       "      <th>change_inventories</th>\n",
       "      <th>total_equity.</th>\n",
       "    </tr>\n",
       "  </thead>\n",
       "  <tbody>\n",
       "    <tr>\n",
       "      <th>95</th>\n",
       "      <td>17237817</td>\n",
       "      <td>2009</td>\n",
       "      <td>4</td>\n",
       "      <td>990888213</td>\n",
       "      <td>Statoil Petroleum AS</td>\n",
       "      <td>STATOIL PETROLEUM AS</td>\n",
       "      <td>990888213</td>\n",
       "      <td>Aktivt</td>\n",
       "      <td>0.0</td>\n",
       "      <td>01.02.2007</td>\n",
       "      <td>...</td>\n",
       "      <td>0.0</td>\n",
       "      <td>NaN</td>\n",
       "      <td>191000.0</td>\n",
       "      <td>NaN</td>\n",
       "      <td>0.0</td>\n",
       "      <td>73533000.0</td>\n",
       "      <td>29994000.0</td>\n",
       "      <td>22064000.0</td>\n",
       "      <td>0</td>\n",
       "      <td>67538000.0</td>\n",
       "    </tr>\n",
       "    <tr>\n",
       "      <th>96</th>\n",
       "      <td>17237817</td>\n",
       "      <td>2010</td>\n",
       "      <td>19</td>\n",
       "      <td>990888213</td>\n",
       "      <td>Statoil Petroleum AS</td>\n",
       "      <td>STATOIL PETROLEUM AS</td>\n",
       "      <td>990888213</td>\n",
       "      <td>Aktivt</td>\n",
       "      <td>0.0</td>\n",
       "      <td>01.02.2007</td>\n",
       "      <td>...</td>\n",
       "      <td>417000.0</td>\n",
       "      <td>NaN</td>\n",
       "      <td>311000.0</td>\n",
       "      <td>NaN</td>\n",
       "      <td>0.0</td>\n",
       "      <td>78434000.0</td>\n",
       "      <td>45025000.0</td>\n",
       "      <td>28146000.0</td>\n",
       "      <td>0</td>\n",
       "      <td>70886000.0</td>\n",
       "    </tr>\n",
       "    <tr>\n",
       "      <th>97</th>\n",
       "      <td>17237817</td>\n",
       "      <td>2011</td>\n",
       "      <td>38</td>\n",
       "      <td>990888213</td>\n",
       "      <td>Statoil Petroleum AS</td>\n",
       "      <td>STATOIL PETROLEUM AS</td>\n",
       "      <td>990888213</td>\n",
       "      <td>Aktivt</td>\n",
       "      <td>0.0</td>\n",
       "      <td>01.02.2007</td>\n",
       "      <td>...</td>\n",
       "      <td>3000.0</td>\n",
       "      <td>NaN</td>\n",
       "      <td>1084000.0</td>\n",
       "      <td>NaN</td>\n",
       "      <td>0.0</td>\n",
       "      <td>79963000.0</td>\n",
       "      <td>56712000.0</td>\n",
       "      <td>57599000.0</td>\n",
       "      <td>0</td>\n",
       "      <td>79036000.0</td>\n",
       "    </tr>\n",
       "    <tr>\n",
       "      <th>98</th>\n",
       "      <td>17237817</td>\n",
       "      <td>2012</td>\n",
       "      <td>26</td>\n",
       "      <td>990888213</td>\n",
       "      <td>Statoil Petroleum AS</td>\n",
       "      <td>STATOIL PETROLEUM AS</td>\n",
       "      <td>990888213</td>\n",
       "      <td>Aktivt</td>\n",
       "      <td>0.0</td>\n",
       "      <td>01.02.2007</td>\n",
       "      <td>...</td>\n",
       "      <td>0.0</td>\n",
       "      <td>NaN</td>\n",
       "      <td>641000.0</td>\n",
       "      <td>NaN</td>\n",
       "      <td>0.0</td>\n",
       "      <td>76774000.0</td>\n",
       "      <td>35383000.0</td>\n",
       "      <td>44576000.0</td>\n",
       "      <td>0</td>\n",
       "      <td>86127000.0</td>\n",
       "    </tr>\n",
       "    <tr>\n",
       "      <th>99</th>\n",
       "      <td>17237817</td>\n",
       "      <td>2013</td>\n",
       "      <td>69</td>\n",
       "      <td>990888213</td>\n",
       "      <td>Statoil Petroleum AS</td>\n",
       "      <td>STATOIL PETROLEUM AS</td>\n",
       "      <td>990888213</td>\n",
       "      <td>Aktivt</td>\n",
       "      <td>0.0</td>\n",
       "      <td>01.02.2007</td>\n",
       "      <td>...</td>\n",
       "      <td>0.0</td>\n",
       "      <td>NaN</td>\n",
       "      <td>430000.0</td>\n",
       "      <td>NaN</td>\n",
       "      <td>0.0</td>\n",
       "      <td>94562000.0</td>\n",
       "      <td>54121000.0</td>\n",
       "      <td>39347000.0</td>\n",
       "      <td>0</td>\n",
       "      <td>174328000.0</td>\n",
       "    </tr>\n",
       "    <tr>\n",
       "      <th>100</th>\n",
       "      <td>17237817</td>\n",
       "      <td>2014</td>\n",
       "      <td>57</td>\n",
       "      <td>990888213</td>\n",
       "      <td>Statoil Petroleum AS</td>\n",
       "      <td>STATOIL PETROLEUM AS</td>\n",
       "      <td>990888213</td>\n",
       "      <td>Aktivt</td>\n",
       "      <td>0.0</td>\n",
       "      <td>01.02.2007</td>\n",
       "      <td>...</td>\n",
       "      <td>0.0</td>\n",
       "      <td>NaN</td>\n",
       "      <td>12296000.0</td>\n",
       "      <td>NaN</td>\n",
       "      <td>0.0</td>\n",
       "      <td>89094000.0</td>\n",
       "      <td>62510000.0</td>\n",
       "      <td>8813000.0</td>\n",
       "      <td>0</td>\n",
       "      <td>205510000.0</td>\n",
       "    </tr>\n",
       "    <tr>\n",
       "      <th>101</th>\n",
       "      <td>17237817</td>\n",
       "      <td>2015</td>\n",
       "      <td>56</td>\n",
       "      <td>990888213</td>\n",
       "      <td>Statoil Petroleum AS</td>\n",
       "      <td>STATOIL PETROLEUM AS</td>\n",
       "      <td>990888213</td>\n",
       "      <td>Aktivt</td>\n",
       "      <td>0.0</td>\n",
       "      <td>01.02.2007</td>\n",
       "      <td>...</td>\n",
       "      <td>0.0</td>\n",
       "      <td>NaN</td>\n",
       "      <td>7644000.0</td>\n",
       "      <td>NaN</td>\n",
       "      <td>0.0</td>\n",
       "      <td>100992000.0</td>\n",
       "      <td>28057000.0</td>\n",
       "      <td>-44462000.0</td>\n",
       "      <td>0</td>\n",
       "      <td>175883000.0</td>\n",
       "    </tr>\n",
       "  </tbody>\n",
       "</table>\n",
       "<p>7 rows × 60 columns</p>\n",
       "</div>"
      ],
      "text/plain": [
       "       NPD_id  year  numbWells      Orgnr              LongName  \\\n",
       "95   17237817  2009          4  990888213  Statoil Petroleum AS   \n",
       "96   17237817  2010         19  990888213  Statoil Petroleum AS   \n",
       "97   17237817  2011         38  990888213  Statoil Petroleum AS   \n",
       "98   17237817  2012         26  990888213  Statoil Petroleum AS   \n",
       "99   17237817  2013         69  990888213  Statoil Petroleum AS   \n",
       "100  17237817  2014         57  990888213  Statoil Petroleum AS   \n",
       "101  17237817  2015         56  990888213  Statoil Petroleum AS   \n",
       "\n",
       "                ShortName    comp_id  status  employees founded_date  ...  \\\n",
       "95   STATOIL PETROLEUM AS  990888213  Aktivt        0.0   01.02.2007  ...   \n",
       "96   STATOIL PETROLEUM AS  990888213  Aktivt        0.0   01.02.2007  ...   \n",
       "97   STATOIL PETROLEUM AS  990888213  Aktivt        0.0   01.02.2007  ...   \n",
       "98   STATOIL PETROLEUM AS  990888213  Aktivt        0.0   01.02.2007  ...   \n",
       "99   STATOIL PETROLEUM AS  990888213  Aktivt        0.0   01.02.2007  ...   \n",
       "100  STATOIL PETROLEUM AS  990888213  Aktivt        0.0   01.02.2007  ...   \n",
       "101  STATOIL PETROLEUM AS  990888213  Aktivt        0.0   01.02.2007  ...   \n",
       "\n",
       "    inventory_capital dividend accounts_payable rental_costs wage_costs  \\\n",
       "95                0.0      NaN         191000.0          NaN        0.0   \n",
       "96           417000.0      NaN         311000.0          NaN        0.0   \n",
       "97             3000.0      NaN        1084000.0          NaN        0.0   \n",
       "98                0.0      NaN         641000.0          NaN        0.0   \n",
       "99                0.0      NaN         430000.0          NaN        0.0   \n",
       "100               0.0      NaN       12296000.0          NaN        0.0   \n",
       "101               0.0      NaN        7644000.0          NaN        0.0   \n",
       "\n",
       "    total_operating_costs  total_current_assets      profit  \\\n",
       "95             73533000.0            29994000.0  22064000.0   \n",
       "96             78434000.0            45025000.0  28146000.0   \n",
       "97             79963000.0            56712000.0  57599000.0   \n",
       "98             76774000.0            35383000.0  44576000.0   \n",
       "99             94562000.0            54121000.0  39347000.0   \n",
       "100            89094000.0            62510000.0   8813000.0   \n",
       "101           100992000.0            28057000.0 -44462000.0   \n",
       "\n",
       "    change_inventories total_equity.  \n",
       "95                   0    67538000.0  \n",
       "96                   0    70886000.0  \n",
       "97                   0    79036000.0  \n",
       "98                   0    86127000.0  \n",
       "99                   0   174328000.0  \n",
       "100                  0   205510000.0  \n",
       "101                  0   175883000.0  \n",
       "\n",
       "[7 rows x 60 columns]"
      ]
     },
     "execution_count": 277,
     "metadata": {},
     "output_type": "execute_result"
    }
   ],
   "source": [
    "explAgg_AS[explAgg_AS['total_assets']>3e8]['LongName'].unique()"
   ]
  },
  {
   "cell_type": "markdown",
   "metadata": {},
   "source": [
    "Now let's look at profitability instead of total assets"
   ]
  },
  {
   "cell_type": "code",
   "execution_count": 286,
   "metadata": {},
   "outputs": [
    {
     "data": {
      "image/png": "[encoded data removed]",
      "text/plain": [
       "<Figure size 640x480 with 1 Axes>"
      ]
     },
     "metadata": {},
     "output_type": "display_data"
    }
   ],
   "source": [
    "sns.scatterplot(\n",
    "    data=explAgg_AS,\n",
    "    x='profitability',\n",
    "    y='numbWells',\n",
    "    hue='NPD_id',\n",
    "    legend=False\n",
    ")\n",
    "\n",
    "plt.xlabel('Profitability')\n",
    "plt.ylabel('Number of Wells')\n",
    "plt.title('Relationship between Total Assets and Number of Wells, Colored by NPD_id')\n",
    "\n",
    "# Show the plot\n",
    "plt.show()"
   ]
  },
  {
   "cell_type": "markdown",
   "metadata": {},
   "source": [
    "There appears to be a correlation between number of wells explored and profitability of the firm: more profitable firms tend to drill more. Very unprofitably tend to drill very little for obvious reasons."
   ]
  },
  {
   "cell_type": "markdown",
   "metadata": {},
   "source": [
    "### Review of Regression"
   ]
  },
  {
   "cell_type": "code",
   "execution_count": 325,
   "metadata": {},
   "outputs": [],
   "source": [
    "explAgg_AS['total_assets_scaled'] = explAgg_AS['total_assets'] / 1000000\n",
    "explAgg_AS['profitability_scaled'] = explAgg_AS['profitability'] / 1000"
   ]
  },
  {
   "cell_type": "code",
   "execution_count": 328,
   "metadata": {},
   "outputs": [
    {
     "data": {
      "text/plain": [
       "total_assets_scaled     41\n",
       "profitability_scaled    44\n",
       "dtype: int64"
      ]
     },
     "execution_count": 328,
     "metadata": {},
     "output_type": "execute_result"
    }
   ],
   "source": [
    "explAgg_AS.dropna(subset=['total_assets_scaled', 'profitability_scaled'])"
   ]
  },
  {
   "cell_type": "code",
   "execution_count": 329,
   "metadata": {},
   "outputs": [
    {
     "data": {
      "text/plain": [
       "0"
      ]
     },
     "execution_count": 329,
     "metadata": {},
     "output_type": "execute_result"
    }
   ],
   "source": [
    "explAgg_AS['numbWells'].isna().sum()"
   ]
  },
  {
   "cell_type": "code",
   "execution_count": 330,
   "metadata": {},
   "outputs": [
    {
     "name": "stdout",
     "output_type": "stream",
     "text": [
      "                            OLS Regression Results                            \n",
      "==============================================================================\n",
      "Dep. Variable:              numbWells   R-squared:                       0.188\n",
      "Model:                            OLS   Adj. R-squared:                  0.172\n",
      "Method:                 Least Squares   F-statistic:                     11.68\n",
      "Date:                Wed, 18 Dec 2024   Prob (F-statistic):           2.74e-05\n",
      "Time:                        17:51:27   Log-Likelihood:                -425.88\n",
      "No. Observations:                 104   AIC:                             857.8\n",
      "Df Residuals:                     101   BIC:                             865.7\n",
      "Df Model:                           2                                         \n",
      "Covariance Type:            nonrobust                                         \n",
      "========================================================================================\n",
      "                           coef    std err          t      P>|t|      [0.025      0.975]\n",
      "----------------------------------------------------------------------------------------\n",
      "const                   11.5998      1.614      7.189      0.000       8.399      14.801\n",
      "total_assets_scaled      0.0676      0.015      4.555      0.000       0.038       0.097\n",
      "profitability_scaled    11.8565     43.100      0.275      0.784     -73.642      97.355\n",
      "==============================================================================\n",
      "Omnibus:                       59.540   Durbin-Watson:                   1.517\n",
      "Prob(Omnibus):                  0.000   Jarque-Bera (JB):              196.857\n",
      "Skew:                           2.082   Prob(JB):                     1.79e-43\n",
      "Kurtosis:                       8.301   Cond. No.                     3.37e+03\n",
      "==============================================================================\n",
      "\n",
      "Notes:\n",
      "[1] Standard Errors assume that the covariance matrix of the errors is correctly specified.\n",
      "[2] The condition number is large, 3.37e+03. This might indicate that there are\n",
      "strong multicollinearity or other numerical problems.\n"
     ]
    }
   ],
   "source": [
    "X = explAgg_AS.dropna(subset=['total_assets_scaled', 'profitability_scaled'])[['total_assets_scaled', 'profitability_scaled']]\n",
    "X = sm.add_constant(X)\n",
    "y = explAgg_AS.dropna(subset=['total_assets_scaled', 'profitability_scaled'])['numbWells']\n",
    "\n",
    "# Fit the linear regression model\n",
    "model = sm.OLS(y, X).fit()\n",
    "print(model.summary())"
   ]
  },
  {
   "cell_type": "markdown",
   "metadata": {},
   "source": [
    "- 18.8% of the variability in `numbWells` is explained by the model (17.2% if we account for the number of predictors in the model)\n",
    "- Low p-value (0.0000274) so we reject the null hypothesis, that all regression coefficients are equal to zero. The model is statistically significant overall.\n",
    "- The regression model indicates that `total_assets_scaled` is a significant predictor of the number of wells, while `profitability_scaled` does not show a statistically significant effect."
   ]
  },
  {
   "cell_type": "markdown",
   "metadata": {},
   "source": [
    "### Include all numeric variables (before selecting a few predictors only)"
   ]
  },
  {
   "cell_type": "markdown",
   "metadata": {},
   "source": [
    "Let's include more variables and see which ones may be useful in predicting the number of wells. Of course, those can only be numeric so we only leave out the ones in text or use binary representation if it is appropriate."
   ]
  },
  {
   "cell_type": "code",
   "execution_count": 342,
   "metadata": {},
   "outputs": [],
   "source": [
    "numeric_only = explAgg_AS.select_dtypes(include=['int64', 'float64']).drop(columns=['numbWells'])"
   ]
  },
  {
   "cell_type": "code",
   "execution_count": 343,
   "metadata": {},
   "outputs": [],
   "source": [
    "numeric_only = numeric_only.drop(columns=['comp_num', 'dividend','liquidity', 'employees', 'accounts_payable'])"
   ]
  },
  {
   "cell_type": "code",
   "execution_count": 346,
   "metadata": {},
   "outputs": [
    {
     "name": "stdout",
     "output_type": "stream",
     "text": [
      "                            OLS Regression Results                            \n",
      "==============================================================================\n",
      "Dep. Variable:              numbWells   R-squared:                       0.586\n",
      "Model:                            OLS   Adj. R-squared:                  0.437\n",
      "Method:                 Least Squares   F-statistic:                     3.932\n",
      "Date:                Wed, 18 Dec 2024   Prob (F-statistic):           7.79e-06\n",
      "Time:                        18:17:25   Log-Likelihood:                -335.84\n",
      "No. Observations:                  88   AIC:                             719.7\n",
      "Df Residuals:                      64   BIC:                             779.1\n",
      "Df Model:                          23                                         \n",
      "Covariance Type:            nonrobust                                         \n",
      "=========================================================================================\n",
      "                            coef    std err          t      P>|t|      [0.025      0.975]\n",
      "-----------------------------------------------------------------------------------------\n",
      "const                    -7.6931    454.260     -0.017      0.987    -915.181     899.795\n",
      "NPD_id                 -5.29e-07   2.07e-07     -2.555      0.013   -9.43e-07   -1.15e-07\n",
      "zip                      -0.0070      0.001     -4.921      0.000      -0.010      -0.004\n",
      "NACE_id                   7.1848     74.594      0.096      0.924    -141.834     156.204\n",
      "share_capital           1.05e-09   3.05e-10      3.445      0.001    4.41e-10    1.66e-09\n",
      "total_assets             -0.0040      0.010     -0.416      0.679      -0.023       0.015\n",
      "inventory_cost         1.855e-07   1.22e-06      0.152      0.879   -2.25e-06    2.62e-06\n",
      "total_inventories      1.407e-08   2.69e-06      0.005      0.996   -5.35e-06    5.38e-06\n",
      "total_debt                0.0040      0.010      0.416      0.679      -0.015       0.023\n",
      "short_debt             4.541e-07   6.27e-07      0.725      0.471   -7.98e-07    1.71e-06\n",
      "auditor_fee               0.0014      0.003      0.467      0.642      -0.005       0.008\n",
      "profitability             0.0021      0.058      0.035      0.972      -0.115       0.119\n",
      "sales_revenue         -1.053e-06   1.03e-06     -1.019      0.312   -3.12e-06    1.01e-06\n",
      "pre_tax_profits        4.107e-06   3.35e-06      1.226      0.225   -2.58e-06    1.08e-05\n",
      "fin_instr              1.236e-07   2.76e-06      0.045      0.964    -5.4e-06    5.65e-06\n",
      "solidity                  0.0480      0.074      0.648      0.520      -0.100       0.196\n",
      "pension_costs          6.939e-05   8.53e-05      0.813      0.419      -0.000       0.000\n",
      "operating_income      -4.118e-06   4.03e-06     -1.023      0.310   -1.22e-05    3.93e-06\n",
      "inventory_capital     -3.734e-07   1.18e-06     -0.317      0.752   -2.72e-06    1.98e-06\n",
      "wage_costs            -4.368e-06   5.67e-06     -0.770      0.444   -1.57e-05    6.97e-06\n",
      "total_operating_costs  5.163e-06   3.81e-06      1.354      0.181   -2.46e-06    1.28e-05\n",
      "total_current_assets  -8.311e-07   6.89e-07     -1.206      0.232   -2.21e-06    5.46e-07\n",
      "profit                 1.797e-06   1.24e-06      1.447      0.153   -6.83e-07    4.28e-06\n",
      "total_equity.             0.0040      0.010      0.416      0.679      -0.015       0.023\n",
      "total_assets_scaled   -4.025e-09   9.67e-09     -0.416      0.679   -2.34e-08    1.53e-08\n",
      "profitability_scaled   2.067e-06   5.84e-05      0.035      0.972      -0.000       0.000\n",
      "==============================================================================\n",
      "Omnibus:                       25.647   Durbin-Watson:                   1.962\n",
      "Prob(Omnibus):                  0.000   Jarque-Bera (JB):               58.697\n",
      "Skew:                           1.010   Prob(JB):                     1.80e-13\n",
      "Kurtosis:                       6.453   Cond. No.                     1.10e+16\n",
      "==============================================================================\n",
      "\n",
      "Notes:\n",
      "[1] Standard Errors assume that the covariance matrix of the errors is correctly specified.\n",
      "[2] The condition number is large, 1.1e+16. This might indicate that there are\n",
      "strong multicollinearity or other numerical problems.\n"
     ]
    }
   ],
   "source": [
    "data = pd.concat([explAgg_AS.dropna(subset=['total_assets_scaled', 'profitability_scaled'])['numbWells'], numeric_only], axis=1).dropna()\n",
    "\n",
    "y = data['numbWells']\n",
    "X = data.drop(columns=['numbWells'])\n",
    "X = sm.add_constant(X)\n",
    "\n",
    "model = sm.OLS(y, X).fit()\n",
    "print(model.summary())"
   ]
  },
  {
   "cell_type": "markdown",
   "metadata": {},
   "source": [
    "**Interpretation**:\n",
    "\n",
    "- Relationship between `numbWells` and 23 independent variables\n",
    "- R-squared value of 0.586 means a moderate to strong fit. Meaningful relationship\n",
    "- Many variables are not contributing significantly to the model (multicollinearity or overfitting)\n",
    "- The residuals are not normally distributed.\n",
    "- High multicollinearity is illustrated here... this gives inflated standard errors, unreliable coefficient estimates. Since there are only 88 observations and 23 predictors, we need much fewer predictors. This gives rise a smaller condition number. This is just an illustration, I would select much fewer predictors normally. "
   ]
  },
  {
   "cell_type": "markdown",
   "metadata": {},
   "source": [
    "### Additional predictors to consider for the regression"
   ]
  },
  {
   "cell_type": "code",
   "execution_count": 350,
   "metadata": {},
   "outputs": [
    {
     "data": {
      "text/plain": [
       "0      1366.0\n",
       "1      4020.0\n",
       "2      4056.0\n",
       "3      4056.0\n",
       "4      4056.0\n",
       "        ...  \n",
       "143    4007.0\n",
       "144    4007.0\n",
       "145    4035.0\n",
       "146       NaN\n",
       "147    4007.0\n",
       "Name: zip, Length: 148, dtype: float64"
      ]
     },
     "execution_count": 350,
     "metadata": {},
     "output_type": "execute_result"
    }
   ],
   "source": [
    "explAgg_AS['zip']"
   ]
  },
  {
   "cell_type": "code",
   "execution_count": 353,
   "metadata": {},
   "outputs": [
    {
     "name": "stdout",
     "output_type": "stream",
     "text": [
      "                            OLS Regression Results                            \n",
      "==============================================================================\n",
      "Dep. Variable:              numbWells   R-squared:                       0.444\n",
      "Model:                            OLS   Adj. R-squared:                  0.400\n",
      "Method:                 Least Squares   F-statistic:                     10.25\n",
      "Date:                Wed, 18 Dec 2024   Prob (F-statistic):           2.20e-09\n",
      "Time:                        18:49:10   Log-Likelihood:                -384.49\n",
      "No. Observations:                  98   AIC:                             785.0\n",
      "Df Residuals:                      90   BIC:                             805.7\n",
      "Df Model:                           7                                         \n",
      "Covariance Type:            nonrobust                                         \n",
      "========================================================================================\n",
      "                           coef    std err          t      P>|t|      [0.025      0.975]\n",
      "----------------------------------------------------------------------------------------\n",
      "const                   39.0266      5.689      6.860      0.000      27.724      50.329\n",
      "total_assets_scaled      0.1741      0.062      2.791      0.006       0.050       0.298\n",
      "profitability_scaled    79.8632     41.494      1.925      0.057      -2.572     162.298\n",
      "employees               -0.0067      0.003     -2.091      0.039      -0.013      -0.000\n",
      "share_capital         2.768e-10   1.96e-10      1.414      0.161   -1.12e-10    6.66e-10\n",
      "sales_revenue         -3.74e-07   2.72e-07     -1.375      0.172   -9.14e-07    1.66e-07\n",
      "pre_tax_profits       1.663e-07    2.7e-07      0.617      0.539   -3.69e-07    7.02e-07\n",
      "zip                     -0.0074      0.001     -5.366      0.000      -0.010      -0.005\n",
      "==============================================================================\n",
      "Omnibus:                       28.394   Durbin-Watson:                   2.080\n",
      "Prob(Omnibus):                  0.000   Jarque-Bera (JB):               58.610\n",
      "Skew:                           1.106   Prob(JB):                     1.87e-13\n",
      "Kurtosis:                       6.076   Cond. No.                     3.95e+11\n",
      "==============================================================================\n",
      "\n",
      "Notes:\n",
      "[1] Standard Errors assume that the covariance matrix of the errors is correctly specified.\n",
      "[2] The condition number is large, 3.95e+11. This might indicate that there are\n",
      "strong multicollinearity or other numerical problems.\n"
     ]
    }
   ],
   "source": [
    "X = explAgg_AS.dropna(subset=['total_assets_scaled', 'profitability_scaled', 'employees', 'share_capital', 'sales_revenue', 'pre_tax_profits', 'zip'])[['total_assets_scaled', 'profitability_scaled', 'employees', 'share_capital', 'sales_revenue', 'pre_tax_profits', 'zip']]\n",
    "X = sm.add_constant(X)\n",
    "y = explAgg_AS.dropna(subset=['total_assets_scaled', 'profitability_scaled', 'employees', 'share_capital', 'sales_revenue', 'pre_tax_profits', 'zip'])['numbWells']\n",
    "\n",
    "# Fit the linear regression model\n",
    "model = sm.OLS(y, X).fit()\n",
    "print(model.summary())"
   ]
  },
  {
   "cell_type": "markdown",
   "metadata": {},
   "source": [
    "- For each additional employee, number of well decreases by 0.0067, holding other variables constant. This negative relationship is statistically significant. This may indicate that more employees might be associated with fewer wells, e.g. efficiency losses in company\n",
    "- "
   ]
  },
  {
   "cell_type": "code",
   "execution_count": null,
   "metadata": {},
   "outputs": [],
   "source": []
  },
  {
   "cell_type": "markdown",
   "metadata": {},
   "source": [
    "Let us now visualise some time series trends with our data"
   ]
  },
  {
   "cell_type": "code",
   "execution_count": 287,
   "metadata": {},
   "outputs": [
    {
     "data": {
      "image/png": "[encoded data removed]",
      "text/plain": [
       "<Figure size 640x480 with 1 Axes>"
      ]
     },
     "metadata": {},
     "output_type": "display_data"
    }
   ],
   "source": [
    "sns.lineplot(\n",
    "    data=explAgg_AS,\n",
    "    x='year', \n",
    "    y='numbWells',\n",
    "    hue='NPD_id',\n",
    "    legend=False\n",
    "    )\n",
    "plt.xlabel('Year')\n",
    "plt.ylabel('Number of Wells')\n",
    "plt.grid(True)\n",
    "plt.show()"
   ]
  },
  {
   "cell_type": "markdown",
   "metadata": {},
   "source": [
    "- A few companies are responsible for the vest majority of the drilling. Many sub-20 wells per year companies. These big firms isgnificantly ramped up their drilling from 2009 until 2013 and have reduced their drilling until 2016-2018\n",
    "\n",
    "- As the share of the drilling by big companies decreases, the share taken by smaller producers seems to ramp up, particularly after 2016.\n",
    "\n"
   ]
  },
  {
   "cell_type": "markdown",
   "metadata": {},
   "source": []
  }
 ],
 "metadata": {
  "kernelspec": {
   "display_name": "datasci",
   "language": "python",
   "name": "python3"
  },
  "language_info": {
   "codemirror_mode": {
    "name": "ipython",
    "version": 3
   },
   "file_extension": ".py",
   "mimetype": "text/x-python",
   "name": "python",
   "nbconvert_exporter": "python",
   "pygments_lexer": "ipython3",
   "version": "3.12.0"
  }
 },
 "nbformat": 4,
 "nbformat_minor": 2
}
